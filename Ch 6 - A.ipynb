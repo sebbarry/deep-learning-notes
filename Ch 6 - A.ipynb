{
 "cells": [
  {
   "cell_type": "code",
   "execution_count": 120,
   "id": "a79e9eec",
   "metadata": {},
   "outputs": [],
   "source": [
    "import numpy as np\n",
    "np.random.seed(1)"
   ]
  },
  {
   "cell_type": "code",
   "execution_count": 121,
   "id": "9b9c3e30",
   "metadata": {},
   "outputs": [],
   "source": [
    "# define activation functions (non-linearity functions)\n",
    "def relu(x):\n",
    "    return (x > 0) * x\n",
    "\n",
    "def relu2derivative(output):\n",
    "    return (output > 0)\n",
    "\n",
    "import unittest\n",
    "class Test(unittest.TestCase):\n",
    "    def test_this(self):\n",
    "        for i in range(-100, 100):\n",
    "            v = relu(i)\n",
    "            if i > 0: \n",
    "                self.assertEqual(v, i)\n",
    "            elif i <= 0: \n",
    "                self.assertEqual(0, v)\n",
    "\n",
    "test = Test()\n",
    "test.test_this()\n",
    "\n"
   ]
  },
  {
   "cell_type": "code",
   "execution_count": 146,
   "id": "1296b00c",
   "metadata": {},
   "outputs": [
    {
     "name": "stdout",
     "output_type": "stream",
     "text": [
      "1.0404361930696193\n",
      "0.7587732961065086\n",
      "0.2830232437323319\n",
      "0.010514685349015992\n",
      "6.494084548155777e-05\n",
      "2.1779502943505866e-06\n"
     ]
    }
   ],
   "source": [
    "# data points\n",
    "\n",
    "# input data\n",
    "# here we have various different data points. \n",
    "streetlights = np.array([\n",
    "    [1, 0, 1], \n",
    "    [0, 1, 1], \n",
    "    [0, 0, 1], \n",
    "    [1, 1, 1]\n",
    "])\n",
    "\n",
    "#goal data\n",
    "walk_or_stop = np.array([[1, 1, 0, 0]]).T\n",
    "\n",
    "#alpha value\n",
    "alpha = 0.2\n",
    "\n",
    "# weight values\n",
    "# distributes 2 to all values in teh array (2*[])\n",
    "weights_0_1 = 2*np.random.random((3, 4)) - 1\n",
    "weights_1_2 = 2*np.random.random((4, 1)) - 1\n",
    "\n",
    "for i in range(60):\n",
    "    layer_2_error = 0\n",
    "    for j in range(len(streetlights)):\n",
    "        # make a prediction\n",
    "        layer_0 = streetlights[j:j+1] # take the first input data\n",
    "        layer_1 = relu(np.dot(layer_0, weights_0_1))\n",
    "        layer_2 = np.dot(layer_1, weights_1_2) # this is the output layer\n",
    "        # single value.\n",
    "        \n",
    "        \n",
    "        # define the error values for output layer prediction\n",
    "        layer_2_error += np.sum((layer_2 - walk_or_stop[j:j+1]) ** 2)\n",
    "        # use np.sum for numpy arrays.\n",
    "        \n",
    "    \n",
    "        # assign a delta vlaue\n",
    "        layer_2_delta = (layer_2 - walk_or_stop[j:j+1])\n",
    "        \n",
    "        # take the dy/dx of the delta\n",
    "        layer_1_delta = layer_2_delta.dot(weights_1_2.T)\n",
    "        \n",
    "        # apply the activation function\n",
    "        d_layer_1_delta = layer_1_delta * relu2deriv(layer_1)\n",
    "        \n",
    "        # re-arrange the weight distributions for each weight using alpha\n",
    "        weights_1_2 = weights_1_2 - (alpha * layer_1.T.dot(layer_2_delta))\n",
    "        weights_0_1 = weights_0_1 - (alpha * layer_0.T.dot(d_layer_1_delta))\n",
    "\n",
    "    if i % 10 == 9:\n",
    "        print(layer_2_error)"
   ]
  },
  {
   "cell_type": "code",
   "execution_count": null,
   "id": "37e58bad",
   "metadata": {},
   "outputs": [],
   "source": []
  },
  {
   "cell_type": "code",
   "execution_count": null,
   "id": "78a71d95",
   "metadata": {},
   "outputs": [],
   "source": []
  }
 ],
 "metadata": {
  "kernelspec": {
   "display_name": "Python 3",
   "language": "python",
   "name": "python3"
  },
  "language_info": {
   "codemirror_mode": {
    "name": "ipython",
    "version": 3
   },
   "file_extension": ".py",
   "mimetype": "text/x-python",
   "name": "python",
   "nbconvert_exporter": "python",
   "pygments_lexer": "ipython3",
   "version": "3.8.2"
  }
 },
 "nbformat": 4,
 "nbformat_minor": 5
}
