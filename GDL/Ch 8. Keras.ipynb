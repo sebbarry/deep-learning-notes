{
 "cells": [
  {
   "cell_type": "code",
   "execution_count": 1,
   "id": "af90ddd5",
   "metadata": {},
   "outputs": [],
   "source": [
    "import sys, numpy as np\n",
    "from keras.datasets import mnist"
   ]
  },
  {
   "cell_type": "code",
   "execution_count": 2,
   "id": "77046cd5",
   "metadata": {},
   "outputs": [
    {
     "name": "stdout",
     "output_type": "stream",
     "text": [
      "\n",
      " I: 0 Error: 0.885 Correct: 0.289\n",
      " I: 10 Error: 0.564 Correct: 0.647\n",
      " I: 20 Error: 0.530 Correct: 0.681\n",
      " I: 30 Error: 0.508 Correct: 0.71\n",
      " I: 40 Error: 0.492 Correct: 0.719\n",
      " I: 50 Error: 0.462 Correct: 0.742\n",
      " I: 60 Error: 0.472 Correct: 0.746\n",
      " I: 70 Error: 0.463 Correct: 0.744\n",
      " I: 80 Error: 0.461 Correct: 0.764\n",
      " I: 90 Error: 0.462 Correct: 0.749\n",
      " I: 100 Error: 0.452 Correct: 0.769\n",
      " I: 110 Error: 0.439 Correct: 0.778\n",
      " I: 120 Error: 0.451 Correct: 0.778\n",
      " I: 130 Error: 0.452 Correct: 0.783\n",
      " I: 140 Error: 0.445 Correct: 0.779\n",
      " I: 150 Error: 0.457 Correct: 0.783\n",
      " I: 160 Error: 0.456 Correct: 0.774\n",
      " I: 170 Error: 0.439 Correct: 0.801\n",
      " I: 180 Error: 0.453 Correct: 0.782\n",
      " I: 190 Error: 0.433 Correct: 0.784\n",
      " I: 200 Error: 0.442 Correct: 0.796\n",
      " I: 210 Error: 0.441 Correct: 0.79\n",
      " I: 220 Error: 0.434 Correct: 0.777\n",
      " I: 230 Error: 0.431 Correct: 0.803\n",
      " I: 240 Error: 0.430 Correct: 0.788\n",
      " I: 250 Error: 0.433 Correct: 0.789\n",
      " I: 260 Error: 0.422 Correct: 0.79\n",
      " I: 270 Error: 0.430 Correct: 0.803\n",
      " I: 280 Error: 0.425 Correct: 0.79\n",
      " I: 290 Error: 0.428 Correct: 0.792\n",
      " I: 300 Error: 0.407 Correct: 0.804\n",
      " I: 310 Error: 0.415 Correct: 0.793\n",
      " I: 320 Error: 0.415 Correct: 0.812\n",
      " I: 330 Error: 0.418 Correct: 0.817\n",
      " I: 340 Error: 0.408 Correct: 0.814"
     ]
    }
   ],
   "source": [
    "(X_Train, Y_Train), (x_test, y_test) = mnist.load_data() \n",
    "\n",
    "images, labels = ((X_Train[0:1000].reshape(1000, 28*28) / 255), Y_Train[0:1000])\n",
    "one_hot_labels = np.zeros((len(labels), 10))\n",
    "\n",
    "for i, l in enumerate(labels):\n",
    "    one_hot_labels[i][l] = 1\n",
    "labels = one_hot_labels\n",
    "\n",
    "test_images = x_test.reshape(len(x_test), 28*28) / 255\n",
    "test_labels = np.zeros((len(y_test), 10))\n",
    "for i, l in enumerate(y_test): \n",
    "    test_labels[i][l] = 1\n",
    "\n",
    "np.random.seed(1)\n",
    "relu = lambda x: (x>=0) * x\n",
    "relu2deriv = lambda output: output >= 0\n",
    "alpha, iterations, hidden_size, pixels_per_image, num_labels = (0.005, 350, 40, 784, 10)\n",
    "\n",
    "# weight values. \n",
    "weights_0_1 = 0.2*np.random.random((pixels_per_image, hidden_size)) - 0.1\n",
    "weights_1_2 = 0.2*np.random.random((hidden_size, num_labels)) - 0.1\n",
    "\n",
    "for j in range(iterations): \n",
    "    error, correct_cnt = (0.0, 0)\n",
    "    for i in range(len(images)): \n",
    "        layer_0 = images[i:i+1]\n",
    "        layer_1 = relu(np.dot(layer_0, weights_0_1))\n",
    "        \n",
    "        dropout_mask = np.random.randint(2, size=layer_1.size)\n",
    "        layer_1 *= dropout_mask * 2\n",
    "        \n",
    "        layer_2 = np.dot(layer_1, weights_1_2)\n",
    "        \n",
    "        error += np.sum((labels[i:i+1] - layer_2) ** 2)\n",
    "        correct_cnt += int(np.argmax(layer_2) == \\\n",
    "                          np.argmax(labels[i:i+1]))\n",
    "        \n",
    "        # find the delta values\n",
    "        delta_2 = labels[i:i+1] - layer_2\n",
    "        delta_1 = delta_2.dot(weights_1_2.T) \n",
    "        d_delta_1 = relu2deriv(layer_1) * delta_1\n",
    "        \n",
    "        d_delta_1 *= dropout_mask\n",
    "        \n",
    "        # update the weights\n",
    "        weights_1_2 = weights_1_2 + (alpha * layer_1.T.dot(delta_2))\n",
    "        weights_0_1 = weights_0_1 + (alpha * layer_0.T.dot(d_delta_1))\n",
    "        \n",
    "    if j % 10 == 0: \n",
    "        sys.stdout.write(\"\\n\" + \\\n",
    "                        \" I: \" + str(j) + \\\n",
    "                        \" Error: \" + str(error/float(len(images)))[0:5] + \\\n",
    "                        \" Correct: \" + str(correct_cnt/float(len(images))))\n"
   ]
  },
  {
   "cell_type": "code",
   "execution_count": null,
   "id": "09d2de6f",
   "metadata": {},
   "outputs": [],
   "source": []
  },
  {
   "cell_type": "code",
   "execution_count": null,
   "id": "6ae11d93",
   "metadata": {},
   "outputs": [],
   "source": []
  }
 ],
 "metadata": {
  "kernelspec": {
   "display_name": "Python 3",
   "language": "python",
   "name": "python3"
  },
  "language_info": {
   "codemirror_mode": {
    "name": "ipython",
    "version": 3
   },
   "file_extension": ".py",
   "mimetype": "text/x-python",
   "name": "python",
   "nbconvert_exporter": "python",
   "pygments_lexer": "ipython3",
   "version": "3.9.7"
  }
 },
 "nbformat": 4,
 "nbformat_minor": 5
}
