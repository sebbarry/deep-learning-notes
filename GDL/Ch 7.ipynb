{
 "cells": [
  {
   "cell_type": "code",
   "execution_count": 1,
   "id": "d64ff1f4",
   "metadata": {},
   "outputs": [
    {
     "name": "stdout",
     "output_type": "stream",
     "text": [
      "[[0.14034781 0.16588933 0.45458111 0.03548735]\n",
      " [0.07052357 0.85753233 0.20209279 0.20711937]\n",
      " [0.9283222  0.25115942 0.55365534 0.93558785]]\n"
     ]
    }
   ],
   "source": [
    "import numpy as np\n",
    "data = np.random.random((3, 4))\n",
    "print(data)"
   ]
  },
  {
   "cell_type": "code",
   "execution_count": null,
   "id": "3054946d",
   "metadata": {},
   "outputs": [],
   "source": []
  }
 ],
 "metadata": {
  "kernelspec": {
   "display_name": "Python 3",
   "language": "python",
   "name": "python3"
  },
  "language_info": {
   "codemirror_mode": {
    "name": "ipython",
    "version": 3
   },
   "file_extension": ".py",
   "mimetype": "text/x-python",
   "name": "python",
   "nbconvert_exporter": "python",
   "pygments_lexer": "ipython3",
   "version": "3.9.7"
  }
 },
 "nbformat": 4,
 "nbformat_minor": 5
}
