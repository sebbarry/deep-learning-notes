{
 "cells": [
  {
   "cell_type": "code",
   "execution_count": 1,
   "execution_count": 21,
   "id": "850968af",
   "metadata": {},
   "outputs": [],
   "source": [
    "\"\"\"\n",
    "Three Layer MNIST\n",
    "\"\"\"\n",
    "def fetch(url):\n",
    "    import gzip, os, urllib.request, hashlib, numpy as np\n",
    "    filename = hashlib.md5(url.encode('utf-8')).hexdigest()\n",
    "    if not os.path.isfile(filename): \n",
    "        dat = urllib.request.urlopen(url).read()\n",
    "        with open(filename, 'wb') as f:\n",
    "            f.write(dat)\n",
    "    else: \n",
    "        with open(filename, 'rb') as f: \n",
    "            dat = f.read()\n",
    "    return np.frombuffer(gzip.decompress(dat), dtype=np.uint8).copy()"
   ]
  },
  {
   "cell_type": "code",
   "execution_count": 2,
   "execution_count": 22,
   "id": "cef282cb",
   "metadata": {},
   "outputs": [],
   "source": [
    "X_Train = fetch('http://yann.lecun.com/exdb/mnist/train-images-idx3-ubyte.gz')#[0x10:].reshape((-1, 28, 28))\n",
    "Y_Train = fetch('http://yann.lecun.com/exdb/mnist/train-labels-idx1-ubyte.gz')#[8:]\n",
    "x_Test = fetch('http://yann.lecun.com/exdb/mnist/t10k-images-idx3-ubyte.gz')[0:784*2].reshape((-1, 28, 28))\n",
    "y_Test = fetch('http://yann.lecun.com/exdb/mnist/t10k-labels-idx1-ubyte.gz')[8:]\n"
   ]
  },
  {
   "cell_type": "code",
   "execution_count": 3,
   "execution_count": 23,
   "id": "fdcf1bea",
   "metadata": {},
   "outputs": [],
   "source": [
    "# shape the data into its respective inputs\n",
    "import numpy as np\n",
    "#from matplotlib.pyplot import imshow\n",
    "#import matplotlib.pyplot as plt\n",
    "import sys\n",
    "\n",
    "images = np.reshape(X_Train[0x10:], (-1,28,28))[:1000]\n",
    "images = images/255\n",
    "labels = Y_Train[8:]\n",
    "\n",
    "\n",
    "# images[0] -> notice how the pixelation of the images are in the shape of a number\n",
    "# also note, the pixelation variations are from 0/255 values.\n",
    "\n",
    "# run imshow(images[0]) to show the image"
   ]
  },
  {
   "cell_type": "code",
   "execution_count": 4,
   "execution_count": 24,
   "id": "58b261c2",
   "metadata": {},
   "outputs": [],
   "source": [
    "images = images.reshape(len(images), 28*28) # reshape again into a matrix of len(images) rows. \n",
    "# make the length of each row 28*28 in length\n",
    "# this essentially flattens everything into a twodimensional matrix.\n",
    "\n",
    "\n",
    "\n",
    "\n",
    "hot_labels = np.zeros((len(labels), 10)) # 1000, 10 matrix\n",
    "for i, l in enumerate(labels): \n",
    "    hot_labels[i] = 1\n",
    "\n",
    "\n",
    "test_images = x_Test.reshape(len(x_Test), 28*28)\n",
    "test_labels = np.zeros((len(y_Test), 10))\n",
    "for i, l in enumerate(y_Test):\n",
    "    test_labels[i] = 1\n",
    "    \n",
    "\n"
   ]
  },
  {
   "cell_type": "code",
   "execution_count": null,
   "id": "7c65ea39",
   "metadata": {},
   "outputs": [],
   "source": []
  },
  {
   "cell_type": "code",
   "execution_count": 5,
   "execution_count": 25,
   "id": "a6de3c7b",
   "metadata": {},
   "outputs": [],
   "source": [
    "\n",
    "\n",
    "np.random.seed(0)\n",
    "\n",
    "relu = lambda x: (x>0) * x\n",
    "relu2deriv = lambda x: (x>0)\n",
    "\n",
    "alpha = 0.0005\n",
    "iterations = 350\n",
    "relu = lambda x: (x>=0) * x\n",
    "relu2deriv = lambda x: (x>=0)\n",
    "\n",
    "alpha = 0.00005\n",
    "iterations = 3500\n",
    "hidden_size = 40\n",
    "pixels_per_image = 28*28\n",
    "num_labels = 10 # all numbers ranging from 0-10\n",
    "\n"
   ]
  },
  {
   "cell_type": "code",
   "execution_count": 6,
   "execution_count": 26,
   "id": "8759f59d",
   "metadata": {},
   "outputs": [],
   "source": [
    "weights_0_1 = .2*np.random.random((pixels_per_image, hidden_size)) - .1\n",
    "weights_1_2 = .2*np.random.random((hidden_size, num_labels)) - .1",
    "weights_0_1 = .2*np.random.random((pixels_per_image, hidden_size)) - 0.01\n",
    "weights_1_2 = .2*np.random.random((hidden_size, num_labels)) - .01\n"
   ]
  },
  {
   "cell_type": "code",
   "execution_count": null,
   "execution_count": 27,
   "id": "28280094",
   "metadata": {},
   "outputs": [
    {
     "name": "stdout",
     "output_type": "stream",
     "text": [
      "I: 277 Error: 0.00320 Count: 0.077"
     ]
      "I: 1628 Error: 17.79"
     ]
    },
    {
     "ename": "KeyboardInterrupt",
     "evalue": "",
     "output_type": "error",
     "traceback": [
      "\u001b[0;31m---------------------------------------------------------------------------\u001b[0m",
      "\u001b[0;31mKeyboardInterrupt\u001b[0m                         Traceback (most recent call last)",
      "\u001b[0;32m<ipython-input-27-8a54645cbbec>\u001b[0m in \u001b[0;36m<module>\u001b[0;34m\u001b[0m\n\u001b[1;32m     27\u001b[0m         \u001b[0;31m# update the weights\u001b[0m\u001b[0;34m\u001b[0m\u001b[0;34m\u001b[0m\u001b[0m\n\u001b[1;32m     28\u001b[0m         \u001b[0mweights_1_2\u001b[0m \u001b[0;34m-=\u001b[0m \u001b[0;34m(\u001b[0m\u001b[0malpha\u001b[0m \u001b[0;34m*\u001b[0m \u001b[0mlayer_1\u001b[0m\u001b[0;34m.\u001b[0m\u001b[0mT\u001b[0m\u001b[0;34m.\u001b[0m\u001b[0mdot\u001b[0m\u001b[0;34m(\u001b[0m\u001b[0mdelta_2\u001b[0m\u001b[0;34m)\u001b[0m\u001b[0;34m)\u001b[0m\u001b[0;34m\u001b[0m\u001b[0;34m\u001b[0m\u001b[0m\n\u001b[0;32m---> 29\u001b[0;31m         \u001b[0mweights_0_1\u001b[0m \u001b[0;34m-=\u001b[0m \u001b[0;34m(\u001b[0m\u001b[0malpha\u001b[0m \u001b[0;34m*\u001b[0m \u001b[0mlayer_0\u001b[0m\u001b[0;34m.\u001b[0m\u001b[0mT\u001b[0m\u001b[0;34m.\u001b[0m\u001b[0mdot\u001b[0m\u001b[0;34m(\u001b[0m\u001b[0md_delta_1\u001b[0m\u001b[0;34m)\u001b[0m\u001b[0;34m)\u001b[0m\u001b[0;34m\u001b[0m\u001b[0;34m\u001b[0m\u001b[0m\n\u001b[0m\u001b[1;32m     30\u001b[0m \u001b[0;34m\u001b[0m\u001b[0m\n\u001b[1;32m     31\u001b[0m     sys.stdout.write(\"\\r\" + \"I: \" + str(j) \\\n",
      "\u001b[0;31mKeyboardInterrupt\u001b[0m: "
     ]
    }
   ],
   "source": [
    "#from tqdm import tqdm\n",
    "#from tqdm import trange\n",
    "#import matplotlib.pyplot as plt\n",
    "\n",
    "for j in range(iterations):#tqdm(t:=range(iterations), desc=(\"Error: \" + str(error/float(len(images)))[0:5] + \" Prediction: \" + str(correct_cnt/float(len(images))))):\n",
    "    \n",
    "    error, correct_cnt = (0.0, 0)\n",
    "\n",
    "    for i in range(len(images)):\n",
    "        \n",
    "        # define layers of the network - tri layer. \n",
    "        layer_0 = images[i:i+1]\n",
    "        layer_1 = relu(np.dot(layer_0, weights_0_1))\n",
    "        layer_2 = np.dot(layer_1, weights_1_2)\n",
    "        \n",
    "        # calculate error values\n",
    "        error += np.sum((layer_2 - labels[i:i+1]) ** 2)\n",
    "        correct_cnt += int(np.argmax(layer_2) == np.argmax(labels[i:i+1]))\n",
    "\n",
    "        # find delta values\n",
    "        delta_2 = (layer_2 - labels[i:i+1])\n",
    "        delta_1 = delta_2.dot(weights_1_2.T)\n",
    "        \n",
    "        # apply activation function / apply non-linearity\n",
    "        d_delta_1 = delta_1*relu2deriv(layer_1)\n",
    "        \n",
    "        # update the weights\n",
    "        weights_1_2 -= (alpha * layer_1.T.dot(delta_2))\n",
    "        weights_0_1 -= (alpha * layer_0.T.dot(d_delta_1))\n",
    "        \n",
    "    sys.stdout.write(\"\\r\" + \"I: \" + str(j) \\\n",
    "                    + \" Error: \" + str(error/float(len(images)))[0:7] \\\n",
    "                    + \" Count: \" + str(correct_cnt/float(len(images))))\n",
    "                    + \" Error: \" + str(error/float(len(images)))[0:5])\n",
    "        \n",
    "#plt.plot(weights)\n",
    "#plt.plot(labels)\n",
    "#plt.show()\n",
    "\n",
    "\n",
    "    "
   ]
  },
  {
   "cell_type": "code",
   "execution_count": null,
   "id": "c5c9e0c9",
   "metadata": {},
   "outputs": [],
   "source": []
  },
  {
   "cell_type": "code",
   "execution_count": null,
   "id": "deae7116",
   "metadata": {},
   "outputs": [],
   "source": []
  }
 ],
 "metadata": {
  "kernelspec": {
   "display_name": "Python 3",
   "language": "python",
   "name": "python3"
  },
  "language_info": {
   "codemirror_mode": {
    "name": "ipython",
    "version": 3
   },
   "file_extension": ".py",
   "mimetype": "text/x-python",
   "name": "python",
   "nbconvert_exporter": "python",
   "pygments_lexer": "ipython3",
   "version": "3.8.2"
  }
 },
 "nbformat": 4,
 "nbformat_minor": 5
}
