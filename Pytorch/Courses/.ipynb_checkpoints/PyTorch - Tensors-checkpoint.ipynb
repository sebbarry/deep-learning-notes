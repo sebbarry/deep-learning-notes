{
 "cells": [
  {
   "cell_type": "markdown",
   "id": "9bbef045",
   "metadata": {},
   "source": [
    "# Tensor Data Structures\n",
    "\n",
    "## Introduction"
   ]
  },
  {
   "cell_type": "markdown",
   "id": "b1022026",
   "metadata": {},
   "source": [
    "1. Introduction\n",
    "2. Tensors from Scratch\n",
    "3. Tensor shapes and structures\n",
    "4. Tensor Operations"
   ]
  },
  {
   "cell_type": "code",
   "execution_count": 1,
   "id": "9b7bebb5",
   "metadata": {},
   "outputs": [
    {
     "data": {
      "text/plain": [
       "'\\nWe can have various different tensors dimensions 1D 2D 3D ...\\n\\nWe can arrange our data into tensors - much like np.arrays etc.\\n'"
      ]
     },
     "execution_count": 1,
     "metadata": {},
     "output_type": "execute_result"
    }
   ],
   "source": [
    "\"\"\"\n",
    "We can have various different tensors dimensions 1D 2D 3D ...\n",
    "\n",
    "We can arrange our data into tensors - much like np.arrays etc.\n",
    "\"\"\""
   ]
  },
  {
   "cell_type": "code",
   "execution_count": 2,
   "id": "f4648866",
   "metadata": {},
   "outputs": [
    {
     "name": "stderr",
     "output_type": "stream",
     "text": [
      "/usr/local/lib/python3.9/site-packages/tqdm/auto.py:22: TqdmWarning: IProgress not found. Please update jupyter and ipywidgets. See https://ipywidgets.readthedocs.io/en/stable/user_install.html\n",
      "  from .autonotebook import tqdm as notebook_tqdm\n"
     ]
    }
   ],
   "source": [
    "import torch\n",
    "import numpy as np\n",
    "import pandas as pd"
   ]
  },
  {
   "cell_type": "code",
   "execution_count": 3,
   "id": "a23fb7a8",
   "metadata": {},
   "outputs": [
    {
     "data": {
      "text/plain": [
       "'1.12.0'"
      ]
     },
     "execution_count": 3,
     "metadata": {},
     "output_type": "execute_result"
    }
   ],
   "source": [
    "torch.__version__"
   ]
  },
  {
   "cell_type": "code",
   "execution_count": 4,
   "id": "0bca9d72",
   "metadata": {},
   "outputs": [
    {
     "data": {
      "text/plain": [
       "dtype('int64')"
      ]
     },
     "execution_count": 4,
     "metadata": {},
     "output_type": "execute_result"
    }
   ],
   "source": [
    "arr = np.array([1,2,3,4,5])\n",
    "arr.dtype"
   ]
  },
  {
   "cell_type": "code",
   "execution_count": 5,
   "id": "ee4fa5e2",
   "metadata": {},
   "outputs": [
    {
     "data": {
      "text/plain": [
       "numpy.ndarray"
      ]
     },
     "execution_count": 5,
     "metadata": {},
     "output_type": "execute_result"
    }
   ],
   "source": [
    "type(arr)"
   ]
  },
  {
   "cell_type": "code",
   "execution_count": 6,
   "id": "7880977b",
   "metadata": {},
   "outputs": [],
   "source": [
    "\"\"\"\n",
    "Pass in an np array to make a new Tensor w/ a copy of the original Array\n",
    "NOTE: This does not make a copy of the original array, but ties it \n",
    "to the memory slot of the original array.\n",
    "\"\"\"\n",
    "x = torch.from_numpy(arr)"
   ]
  },
  {
   "cell_type": "code",
   "execution_count": 7,
   "id": "0b9be27b",
   "metadata": {},
   "outputs": [
    {
     "data": {
      "text/plain": [
       "tensor([1, 2, 3, 4, 5])"
      ]
     },
     "execution_count": 7,
     "metadata": {},
     "output_type": "execute_result"
    }
   ],
   "source": [
    "torch.as_tensor(arr)"
   ]
  },
  {
   "cell_type": "code",
   "execution_count": 8,
   "id": "346da438",
   "metadata": {},
   "outputs": [
    {
     "data": {
      "text/plain": [
       "torch.int64"
      ]
     },
     "execution_count": 8,
     "metadata": {},
     "output_type": "execute_result"
    }
   ],
   "source": [
    "x.dtype"
   ]
  },
  {
   "cell_type": "code",
   "execution_count": 9,
   "id": "e0718e46",
   "metadata": {},
   "outputs": [
    {
     "data": {
      "text/plain": [
       "array([ 0.,  1.,  2.,  3.,  4.,  5.,  6.,  7.,  8.,  9., 10., 11.])"
      ]
     },
     "execution_count": 9,
     "metadata": {},
     "output_type": "execute_result"
    }
   ],
   "source": [
    "arr2d = np.arange(0.0, 12.0)\n",
    "arr2d"
   ]
  },
  {
   "cell_type": "code",
   "execution_count": 10,
   "id": "318ab542",
   "metadata": {},
   "outputs": [],
   "source": [
    "arr2d = arr2d.reshape(4,3)"
   ]
  },
  {
   "cell_type": "code",
   "execution_count": 11,
   "id": "f91e5935",
   "metadata": {},
   "outputs": [],
   "source": [
    "x2 = torch.from_numpy(arr2d)"
   ]
  },
  {
   "cell_type": "code",
   "execution_count": 12,
   "id": "a93bf665",
   "metadata": {},
   "outputs": [
    {
     "data": {
      "text/plain": [
       "tensor([[ 0.,  1.,  2.],\n",
       "        [ 3.,  4.,  5.],\n",
       "        [ 6.,  7.,  8.],\n",
       "        [ 9., 10., 11.]], dtype=torch.float64)"
      ]
     },
     "execution_count": 12,
     "metadata": {},
     "output_type": "execute_result"
    }
   ],
   "source": [
    "x2"
   ]
  },
  {
   "cell_type": "code",
   "execution_count": 13,
   "id": "40219314",
   "metadata": {},
   "outputs": [],
   "source": [
    "# most common function to convert numpy array to a Tensor\n",
    "arr = np.arange(0,10)\n",
    "my_tensor = torch.tensor(arr) # creates a new Tensor as a copy of the original np array\n",
    "mh_other_tensor = torch.from_numpy(arr) # creates a new Tensor with direct link to theoriginal np array"
   ]
  },
  {
   "cell_type": "code",
   "execution_count": 14,
   "id": "a49edfc5",
   "metadata": {},
   "outputs": [
    {
     "data": {
      "text/plain": [
       "'\\nCreating Tensors from Scratch\\n'"
      ]
     },
     "execution_count": 14,
     "metadata": {},
     "output_type": "execute_result"
    }
   ],
   "source": [
    "\"\"\"\n",
    "Creating Tensors from Scratch\n",
    "\"\"\""
   ]
  },
  {
   "cell_type": "code",
   "execution_count": 15,
   "id": "e7667531",
   "metadata": {},
   "outputs": [
    {
     "data": {
      "text/plain": [
       "tensor([1, 2, 3])"
      ]
     },
     "execution_count": 15,
     "metadata": {},
     "output_type": "execute_result"
    }
   ],
   "source": [
    "new_array = np.array([1,2,3])\n",
    "torch.tensor(new_array)"
   ]
  },
  {
   "cell_type": "code",
   "execution_count": 16,
   "id": "7a168808",
   "metadata": {},
   "outputs": [],
   "source": [
    "new_array = np.array([1,2,3])\n",
    "tsr = torch.Tensor(new_array)\n",
    "tsr2 = torch.FloatTensor(new_array)"
   ]
  },
  {
   "cell_type": "code",
   "execution_count": 17,
   "id": "c2d4df12",
   "metadata": {},
   "outputs": [
    {
     "data": {
      "text/plain": [
       "torch.float32"
      ]
     },
     "execution_count": 17,
     "metadata": {},
     "output_type": "execute_result"
    }
   ],
   "source": [
    "tsr2.dtype"
   ]
  },
  {
   "cell_type": "code",
   "execution_count": null,
   "id": "5622392b",
   "metadata": {},
   "outputs": [],
   "source": []
  },
  {
   "cell_type": "code",
   "execution_count": 18,
   "id": "d3418736",
   "metadata": {},
   "outputs": [
    {
     "data": {
      "text/plain": [
       "'\\nPlaceholder Tensors\\n'"
      ]
     },
     "execution_count": 18,
     "metadata": {},
     "output_type": "execute_result"
    }
   ],
   "source": [
    "\"\"\"\n",
    "Placeholder Tensors\n",
    "\"\"\""
   ]
  },
  {
   "cell_type": "code",
   "execution_count": 19,
   "id": "1666c429",
   "metadata": {},
   "outputs": [
    {
     "data": {
      "text/plain": [
       "tensor([[ 0.0000e+00, -8.5899e+09],\n",
       "        [ 0.0000e+00, -8.5899e+09]])"
      ]
     },
     "execution_count": 19,
     "metadata": {},
     "output_type": "execute_result"
    }
   ],
   "source": [
    "x = torch.empty(2,2,dtype=torch.float)\n",
    "x"
   ]
  },
  {
   "cell_type": "code",
   "execution_count": 20,
   "id": "f8a3595d",
   "metadata": {},
   "outputs": [
    {
     "data": {
      "text/plain": [
       "tensor([[0, 0, 0],\n",
       "        [0, 0, 0],\n",
       "        [0, 0, 0],\n",
       "        [0, 0, 0]], dtype=torch.int32)"
      ]
     },
     "execution_count": 20,
     "metadata": {},
     "output_type": "execute_result"
    }
   ],
   "source": [
    "zeroes = torch.zeros(4,3, dtype=torch.int32)\n",
    "zeroes"
   ]
  },
  {
   "cell_type": "code",
   "execution_count": 21,
   "id": "1327b073",
   "metadata": {},
   "outputs": [
    {
     "data": {
      "text/plain": [
       "tensor([[1., 1., 1.],\n",
       "        [1., 1., 1.],\n",
       "        [1., 1., 1.],\n",
       "        [1., 1., 1.]])"
      ]
     },
     "execution_count": 21,
     "metadata": {},
     "output_type": "execute_result"
    }
   ],
   "source": [
    "torch.ones(4,3)"
   ]
  },
  {
   "cell_type": "code",
   "execution_count": 22,
   "id": "fcc00c64",
   "metadata": {},
   "outputs": [
    {
     "data": {
      "text/plain": [
       "tensor([[ 0,  2,  4],\n",
       "        [ 6,  8, 10],\n",
       "        [12, 14, 16]])"
      ]
     },
     "execution_count": 22,
     "metadata": {},
     "output_type": "execute_result"
    }
   ],
   "source": [
    "torch.arange(0,18,2).reshape(3,3)"
   ]
  },
  {
   "cell_type": "code",
   "execution_count": 23,
   "id": "a892e2bd",
   "metadata": {},
   "outputs": [
    {
     "data": {
      "text/plain": [
       "tensor([[ 0.0000,  1.6364,  3.2727],\n",
       "        [ 4.9091,  6.5455,  8.1818],\n",
       "        [ 9.8182, 11.4545, 13.0909],\n",
       "        [14.7273, 16.3636, 18.0000]])"
      ]
     },
     "execution_count": 23,
     "metadata": {},
     "output_type": "execute_result"
    }
   ],
   "source": [
    "value = torch.linspace(0,18,12).reshape(4,3) # twelve linearly spaced values from 0-18\n",
    "value"
   ]
  },
  {
   "cell_type": "code",
   "execution_count": 24,
   "id": "3587976d",
   "metadata": {},
   "outputs": [
    {
     "data": {
      "text/plain": [
       "tensor([[ 0.0000,  1.6364,  3.2727],\n",
       "        [ 4.9091,  6.5455,  8.1818],\n",
       "        [ 9.8182, 11.4545, 13.0909],\n",
       "        [14.7273, 16.3636, 18.0000]])"
      ]
     },
     "execution_count": 24,
     "metadata": {},
     "output_type": "execute_result"
    }
   ],
   "source": [
    "value2 = torch.tensor([1,2,3]).type(torch.float)\n",
    "value2 = value.type(torch.float)\n",
    "value2"
   ]
  },
  {
   "cell_type": "code",
   "execution_count": 25,
   "id": "87760895",
   "metadata": {},
   "outputs": [
    {
     "data": {
      "text/plain": [
       "tensor([[0.5065, 0.7701, 0.6339],\n",
       "        [0.6205, 0.9014, 0.6738],\n",
       "        [0.0780, 0.7275, 0.7722],\n",
       "        [0.9995, 0.6067, 0.2902]])"
      ]
     },
     "execution_count": 25,
     "metadata": {},
     "output_type": "execute_result"
    }
   ],
   "source": [
    "torch.rand(4,3) # random values in a uniform distribution"
   ]
  },
  {
   "cell_type": "code",
   "execution_count": 26,
   "id": "28b4fae4",
   "metadata": {},
   "outputs": [
    {
     "data": {
      "text/plain": [
       "tensor([[-0.2549,  1.1783,  1.0046],\n",
       "        [-0.0567,  0.6019,  1.0339],\n",
       "        [-0.8573,  0.5510,  1.7752],\n",
       "        [-2.3524, -1.8679, -0.5033]])"
      ]
     },
     "execution_count": 26,
     "metadata": {},
     "output_type": "execute_result"
    }
   ],
   "source": [
    "v = torch.randn(4,3) # mean is at zero and std-deviation is a one\n",
    "v"
   ]
  },
  {
   "cell_type": "code",
   "execution_count": 27,
   "id": "2521e4a3",
   "metadata": {},
   "outputs": [
    {
     "data": {
      "text/plain": [
       "tensor([[0, 2, 9, 1, 2],\n",
       "        [7, 6, 1, 6, 6],\n",
       "        [8, 2, 0, 2, 9],\n",
       "        [1, 9, 6, 0, 6],\n",
       "        [6, 1, 1, 5, 0]])"
      ]
     },
     "execution_count": 27,
     "metadata": {},
     "output_type": "execute_result"
    }
   ],
   "source": [
    "vv = torch.randint(low=0, high=10, size=(5,5))\n",
    "vv"
   ]
  },
  {
   "cell_type": "code",
   "execution_count": 28,
   "id": "c75a1d6a",
   "metadata": {},
   "outputs": [
    {
     "data": {
      "text/plain": [
       "tensor([[0, 7, 7, 5, 2],\n",
       "        [7, 4, 4, 0, 9],\n",
       "        [1, 8, 5, 4, 1],\n",
       "        [7, 2, 1, 0, 9],\n",
       "        [2, 6, 2, 6, 4]])"
      ]
     },
     "execution_count": 28,
     "metadata": {},
     "output_type": "execute_result"
    }
   ],
   "source": [
    "tt = torch.randint(0, 10, (5,5))\n",
    "tt"
   ]
  },
  {
   "cell_type": "code",
   "execution_count": 29,
   "id": "52f17f46",
   "metadata": {},
   "outputs": [
    {
     "data": {
      "text/plain": [
       "tensor([[0., 0., 0., 0., 0.],\n",
       "        [0., 0., 0., 0., 0.]])"
      ]
     },
     "execution_count": 29,
     "metadata": {},
     "output_type": "execute_result"
    }
   ],
   "source": [
    "x = torch.zeros(2,5)\n",
    "x"
   ]
  },
  {
   "cell_type": "code",
   "execution_count": 30,
   "id": "d73d93f6",
   "metadata": {},
   "outputs": [
    {
     "data": {
      "text/plain": [
       "torch.Size([2, 5])"
      ]
     },
     "execution_count": 30,
     "metadata": {},
     "output_type": "execute_result"
    }
   ],
   "source": [
    "x.shape"
   ]
  },
  {
   "cell_type": "code",
   "execution_count": 31,
   "id": "fb564957",
   "metadata": {},
   "outputs": [
    {
     "data": {
      "text/plain": [
       "tensor([[0.6493, 0.6856, 0.2807, 0.8828, 0.1203],\n",
       "        [0.9332, 0.6756, 0.6812, 0.1432, 0.2099]])"
      ]
     },
     "execution_count": 31,
     "metadata": {},
     "output_type": "execute_result"
    }
   ],
   "source": [
    "x_2 = torch.rand_like(x) # takes the shape off the incoming shape of the input tensor\n",
    "x_2"
   ]
  },
  {
   "cell_type": "code",
   "execution_count": 32,
   "id": "c922e7da",
   "metadata": {},
   "outputs": [
    {
     "data": {
      "text/plain": [
       "tensor([[0.2371, 0.2089, 0.5519, 0.1606, 0.7845],\n",
       "        [0.6807, 0.0152, 0.3783, 0.5516, 0.1157]])"
      ]
     },
     "execution_count": 32,
     "metadata": {},
     "output_type": "execute_result"
    }
   ],
   "source": [
    "x_3 = torch.rand_like(x)\n",
    "x_3"
   ]
  },
  {
   "cell_type": "code",
   "execution_count": 33,
   "id": "adabac1f",
   "metadata": {},
   "outputs": [
    {
     "data": {
      "text/plain": [
       "tensor([[ 0., 11., 17., 17., 10.],\n",
       "        [16., 17., 19.,  3., 12.]])"
      ]
     },
     "execution_count": 33,
     "metadata": {},
     "output_type": "execute_result"
    }
   ],
   "source": [
    "x_4 = torch.randint_like(x,low=0, high=20)\n",
    "x_4"
   ]
  },
  {
   "cell_type": "code",
   "execution_count": 34,
   "id": "ab4062e4",
   "metadata": {},
   "outputs": [
    {
     "data": {
      "text/plain": [
       "tensor([[0.8823, 0.9150, 0.3829],\n",
       "        [0.9593, 0.3904, 0.6009]])"
      ]
     },
     "execution_count": 34,
     "metadata": {},
     "output_type": "execute_result"
    }
   ],
   "source": [
    "# reproducability w/ seeding\n",
    "y = torch.manual_seed(42)\n",
    "torch.rand(2, 3)"
   ]
  },
  {
   "cell_type": "markdown",
   "id": "11779cd3",
   "metadata": {},
   "source": [
    "# Tensor Operations"
   ]
  },
  {
   "cell_type": "code",
   "execution_count": 35,
   "id": "25057259",
   "metadata": {},
   "outputs": [],
   "source": [
    "import torch \n",
    "import numpy as np\n",
    "import pandas as pd"
   ]
  },
  {
   "cell_type": "code",
   "execution_count": 36,
   "id": "c307633b",
   "metadata": {},
   "outputs": [
    {
     "data": {
      "text/plain": [
       "tensor([[0, 1],\n",
       "        [2, 3],\n",
       "        [4, 5]])"
      ]
     },
     "execution_count": 36,
     "metadata": {},
     "output_type": "execute_result"
    }
   ],
   "source": [
    "\"\"\"\n",
    "Slicing\n",
    "\"\"\"\n",
    "x = torch.arange(0, 6, 1).reshape(3,2)\n",
    "x"
   ]
  },
  {
   "cell_type": "code",
   "execution_count": 37,
   "id": "867429d7",
   "metadata": {},
   "outputs": [],
   "source": [
    "a = x[1, 1]\n",
    "t = x[:, 1] # get back all values in the 1 column from each row"
   ]
  },
  {
   "cell_type": "code",
   "execution_count": 38,
   "id": "a1b362a6",
   "metadata": {},
   "outputs": [
    {
     "name": "stdout",
     "output_type": "stream",
     "text": [
      "tensor([[1],\n",
      "        [3],\n",
      "        [5]])\n",
      "tensor([[1],\n",
      "        [3],\n",
      "        [5]])\n"
     ]
    }
   ],
   "source": [
    "tt = x[:, 1:]\n",
    "print(tt)\n",
    "\n",
    "# or\n",
    "\n",
    "ta = x[:, 1].reshape(3, 1)\n",
    "print(ta)"
   ]
  },
  {
   "cell_type": "code",
   "execution_count": 39,
   "id": "6f6a9ce7",
   "metadata": {},
   "outputs": [],
   "source": [
    "# reshape w/o changing the original data structure\n",
    "a = torch.arange(0, 10, 1)\n",
    "a.view(2,5)\n",
    "\n",
    "# to reassign\n",
    "a = a.view(2,5)\n"
   ]
  },
  {
   "cell_type": "code",
   "execution_count": 40,
   "id": "1ab50354",
   "metadata": {},
   "outputs": [
    {
     "name": "stdout",
     "output_type": "stream",
     "text": [
      "tensor([[1000, 1000, 1000, 1000, 1000],\n",
      "        [   5,    6,    7,    8,    9]])\n",
      "tensor([[1000, 1000, 1000, 1000, 1000],\n",
      "        [   5,    6,    7,    8,    9]])\n"
     ]
    }
   ],
   "source": [
    "z = a.view(2, 5)\n",
    "z[0] = 1000\n",
    "print(z)\n",
    "print(a) # notice how both changes when we use views. "
   ]
  },
  {
   "cell_type": "code",
   "execution_count": 41,
   "id": "7dbda870",
   "metadata": {},
   "outputs": [],
   "source": [
    "t = torch.arange(0, 12, 1)"
   ]
  },
  {
   "cell_type": "code",
   "execution_count": 42,
   "id": "5f50e035",
   "metadata": {},
   "outputs": [
    {
     "data": {
      "text/plain": [
       "tensor([[ 0,  1,  2,  3,  4,  5],\n",
       "        [ 6,  7,  8,  9, 10, 11]])"
      ]
     },
     "execution_count": 42,
     "metadata": {},
     "output_type": "execute_result"
    }
   ],
   "source": [
    "# Infer what the second dimension should be w/ a -1 in the second parameter. \n",
    "t.view(2,-1)"
   ]
  },
  {
   "cell_type": "code",
   "execution_count": 43,
   "id": "2dbcac3c",
   "metadata": {},
   "outputs": [],
   "source": [
    "a = torch.tensor([1, 2, 3], dtype=torch.float)"
   ]
  },
  {
   "cell_type": "code",
   "execution_count": 44,
   "id": "cc8201d4",
   "metadata": {},
   "outputs": [],
   "source": [
    "b = torch.tensor([4, 5, 6], dtype=torch.float)"
   ]
  },
  {
   "cell_type": "code",
   "execution_count": 45,
   "id": "cb67425a",
   "metadata": {},
   "outputs": [
    {
     "data": {
      "text/plain": [
       "tensor([5., 7., 9.])"
      ]
     },
     "execution_count": 45,
     "metadata": {},
     "output_type": "execute_result"
    }
   ],
   "source": [
    "t = a + b\n",
    "t"
   ]
  },
  {
   "cell_type": "code",
   "execution_count": 46,
   "id": "e318b257",
   "metadata": {},
   "outputs": [
    {
     "data": {
      "text/plain": [
       "tensor([5., 7., 9.])"
      ]
     },
     "execution_count": 46,
     "metadata": {},
     "output_type": "execute_result"
    }
   ],
   "source": [
    "torch.add(a,b)"
   ]
  },
  {
   "cell_type": "code",
   "execution_count": 47,
   "id": "c115dbce",
   "metadata": {},
   "outputs": [
    {
     "data": {
      "text/plain": [
       "tensor([5., 7., 9.])"
      ]
     },
     "execution_count": 47,
     "metadata": {},
     "output_type": "execute_result"
    }
   ],
   "source": [
    "### Underscore methods are different thatn the usual methods in torch\n",
    "# a = a + b\n",
    "a.add_(b) # the underscore reassigns the result to itself"
   ]
  },
  {
   "cell_type": "markdown",
   "id": "fd3c4ad6",
   "metadata": {},
   "source": [
    "#### Dot Products and M/Mult"
   ]
  },
  {
   "cell_type": "code",
   "execution_count": 55,
   "id": "8baf6af0",
   "metadata": {},
   "outputs": [
    {
     "data": {
      "text/plain": [
       "tensor([ 3,  8, 15])"
      ]
     },
     "execution_count": 55,
     "metadata": {},
     "output_type": "execute_result"
    }
   ],
   "source": [
    "a = torch.tensor([1,2,3])\n",
    "b = torch.tensor([3,4,5])\n",
    "a * b"
   ]
  },
  {
   "cell_type": "code",
   "execution_count": 56,
   "id": "ed561777",
   "metadata": {},
   "outputs": [
    {
     "data": {
      "text/plain": [
       "tensor(26)"
      ]
     },
     "execution_count": 56,
     "metadata": {},
     "output_type": "execute_result"
    }
   ],
   "source": [
    "## Dot product\n",
    "aa = a.dot(b)\n",
    "aa"
   ]
  },
  {
   "cell_type": "code",
   "execution_count": 72,
   "id": "43bb09eb",
   "metadata": {},
   "outputs": [
    {
     "name": "stdout",
     "output_type": "stream",
     "text": [
      "torch.Size([2, 3])\n",
      "torch.Size([3, 2])\n"
     ]
    },
    {
     "data": {
      "text/plain": [
       "tensor([[21, 34, 47],\n",
       "        [27, 44, 61],\n",
       "        [33, 54, 75]])"
      ]
     },
     "execution_count": 72,
     "metadata": {},
     "output_type": "execute_result"
    }
   ],
   "source": [
    "bb = torch.arange(0, 6, 1).reshape(2, 3)\n",
    "print(bb.shape)\n",
    "aa = torch.arange(6, 12, 1).reshape(3, 2)\n",
    "print(aa.shape)\n",
    "\n",
    "# matrix multiplication\n",
    "torch.mm(aa, bb)"
   ]
  },
  {
   "cell_type": "code",
   "execution_count": 73,
   "id": "b6a37d45",
   "metadata": {},
   "outputs": [
    {
     "data": {
      "text/plain": [
       "tensor(7.3485)"
      ]
     },
     "execution_count": 73,
     "metadata": {},
     "output_type": "execute_result"
    }
   ],
   "source": [
    "# euclidian norm\n",
    "x = torch.tensor([2, 3, 4, 5], dtype=torch.float)\n",
    "x.norm()"
   ]
  },
  {
   "cell_type": "code",
   "execution_count": 80,
   "id": "16e79552",
   "metadata": {},
   "outputs": [
    {
     "data": {
      "text/plain": [
       "4"
      ]
     },
     "execution_count": 80,
     "metadata": {},
     "output_type": "execute_result"
    }
   ],
   "source": [
    "x.numel() # number of elements\n",
    "# or\n",
    "len(x)"
   ]
  },
  {
   "cell_type": "code",
   "execution_count": null,
   "id": "fe113b70",
   "metadata": {},
   "outputs": [],
   "source": []
  }
 ],
 "metadata": {
  "kernelspec": {
   "display_name": "Python 3",
   "language": "python",
   "name": "python3"
  },
  "language_info": {
   "codemirror_mode": {
    "name": "ipython",
    "version": 3
   },
   "file_extension": ".py",
   "mimetype": "text/x-python",
   "name": "python",
   "nbconvert_exporter": "python",
   "pygments_lexer": "ipython3",
   "version": "3.9.7"
  }
 },
 "nbformat": 4,
 "nbformat_minor": 5
}
