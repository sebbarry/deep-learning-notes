{
 "cells": [
  {
   "cell_type": "code",
   "execution_count": 1,
   "id": "10959e76",
   "metadata": {},
   "outputs": [],
   "source": [
    "import pandas as pd\n",
    "import numpy as np"
   ]
  },
  {
   "cell_type": "code",
   "execution_count": 2,
   "id": "658f5b1a",
   "metadata": {},
   "outputs": [],
   "source": [
    "\"\"\" Grab data where needed. \"\"\"\n",
    "import urllib\n",
    "import hashlib, gzip, csv, re\n",
    "\n",
    "endpoint = 'http://db.cs.cmu.edu/files/data/stocks/stocks_nyse.csv'\n"
   ]
  },
  {
   "cell_type": "code",
   "execution_count": 12,
   "id": "e2068994",
   "metadata": {},
   "outputs": [],
   "source": [
    "# we can also just read the file directly\n",
    "## -> data_frame = pd.read_csv('filename.csv')\n",
    "\n",
    "# we can also save a dataframe to a .csv file \n",
    "## -> df.to_csv('filename.csv', index=True/False)\n",
    "\n",
    "# we can also read the file directly (excel)\n",
    "## -> data_frame = pd.read_excel('filename.xlsx', sheet_name='Sheetname')\n",
    "\n",
    "# we can also read html data (tabular data in tables)\n",
    "## -> table_list = pd.read_html('http://....')\n",
    "\n",
    "def fetch(url):\n",
    "    import os,sys, hashlib, gzip\n",
    "    filename = endpoint.split(\"/\")[-1:][0]\n",
    "    file_hash = hashlib.sha256(filename.encode(\"utf-8\")).hexdigest()\n",
    "    if not filename in os.listdir():\n",
    "        with urllib.request.urlopen(url) as e: \n",
    "            d = e.read()\n",
    "            with gzip.open(file_hash, 'wb') as f: \n",
    "                f.write(d)\n",
    "            return d\n",
    "    else: \n",
    "        with gzip.open(file_hash, 'rb') as f: \n",
    "            data = f.readlines()\n",
    "            return data\n",
    "\n",
    "data = fetch(endpoint).decode(\"utf-8\").__str__().split(\"\\n\")[1:]"
   ]
  },
  {
   "cell_type": "code",
   "execution_count": 13,
   "id": "591c93e1",
   "metadata": {},
   "outputs": [],
   "source": [
    "d = {\n",
    "    \"Company Names\": [\"\".join(x.split(\",\")[:-1]).strip('\\\"\"') for x in data], \n",
    "    \"Symbols\": [x.split(\",\")[-1] for x in data]\n",
    "}\n",
    "data_frame = pd.DataFrame(d)"
   ]
  },
  {
   "cell_type": "code",
   "execution_count": 14,
   "id": "38ea26be",
   "metadata": {},
   "outputs": [
    {
     "data": {
      "text/html": [
       "<div>\n",
       "<style scoped>\n",
       "    .dataframe tbody tr th:only-of-type {\n",
       "        vertical-align: middle;\n",
       "    }\n",
       "\n",
       "    .dataframe tbody tr th {\n",
       "        vertical-align: top;\n",
       "    }\n",
       "\n",
       "    .dataframe thead th {\n",
       "        text-align: right;\n",
       "    }\n",
       "</style>\n",
       "<table border=\"1\" class=\"dataframe\">\n",
       "  <thead>\n",
       "    <tr style=\"text-align: right;\">\n",
       "      <th></th>\n",
       "      <th>Company Names</th>\n",
       "      <th>Symbols</th>\n",
       "    </tr>\n",
       "  </thead>\n",
       "  <tbody>\n",
       "    <tr>\n",
       "      <th>0</th>\n",
       "      <td>Agilent Technologies Inc.</td>\n",
       "      <td>A</td>\n",
       "    </tr>\n",
       "    <tr>\n",
       "      <th>1</th>\n",
       "      <td>Alcoa Inc.</td>\n",
       "      <td>AA</td>\n",
       "    </tr>\n",
       "    <tr>\n",
       "      <th>2</th>\n",
       "      <td>AirTran Holdings Inc.</td>\n",
       "      <td>AAI</td>\n",
       "    </tr>\n",
       "    <tr>\n",
       "      <th>3</th>\n",
       "      <td>Advance Auto Parts Inc.</td>\n",
       "      <td>AAP</td>\n",
       "    </tr>\n",
       "    <tr>\n",
       "      <th>4</th>\n",
       "      <td>AMR Corporation Delaware Pines 7.875</td>\n",
       "      <td>AAR</td>\n",
       "    </tr>\n",
       "    <tr>\n",
       "      <th>...</th>\n",
       "      <td>...</td>\n",
       "      <td>...</td>\n",
       "    </tr>\n",
       "    <tr>\n",
       "      <th>2829</th>\n",
       "      <td>Zenith National Insurance Corp.</td>\n",
       "      <td>ZNT</td>\n",
       "    </tr>\n",
       "    <tr>\n",
       "      <th>2830</th>\n",
       "      <td>Quiksilver Inc.</td>\n",
       "      <td>ZQK</td>\n",
       "    </tr>\n",
       "    <tr>\n",
       "      <th>2831</th>\n",
       "      <td>N/A</td>\n",
       "      <td>ZTR</td>\n",
       "    </tr>\n",
       "    <tr>\n",
       "      <th>2832</th>\n",
       "      <td>Sealy Corporation</td>\n",
       "      <td>ZZ</td>\n",
       "    </tr>\n",
       "    <tr>\n",
       "      <th>2833</th>\n",
       "      <td></td>\n",
       "      <td></td>\n",
       "    </tr>\n",
       "  </tbody>\n",
       "</table>\n",
       "<p>2834 rows × 2 columns</p>\n",
       "</div>"
      ],
      "text/plain": [
       "                             Company Names Symbols\n",
       "0                Agilent Technologies Inc.       A\n",
       "1                               Alcoa Inc.      AA\n",
       "2                    AirTran Holdings Inc.     AAI\n",
       "3                  Advance Auto Parts Inc.     AAP\n",
       "4     AMR Corporation Delaware Pines 7.875     AAR\n",
       "...                                    ...     ...\n",
       "2829       Zenith National Insurance Corp.     ZNT\n",
       "2830                       Quiksilver Inc.     ZQK\n",
       "2831                                   N/A     ZTR\n",
       "2832                     Sealy Corporation      ZZ\n",
       "2833                                              \n",
       "\n",
       "[2834 rows x 2 columns]"
      ]
     },
     "execution_count": 14,
     "metadata": {},
     "output_type": "execute_result"
    }
   ],
   "source": [
    "data_frame"
   ]
  },
  {
   "cell_type": "code",
   "execution_count": null,
   "id": "2589fdf8",
   "metadata": {},
   "outputs": [],
   "source": []
  }
 ],
 "metadata": {
  "kernelspec": {
   "display_name": "Python 3",
   "language": "python",
   "name": "python3"
  },
  "language_info": {
   "codemirror_mode": {
    "name": "ipython",
    "version": 3
   },
   "file_extension": ".py",
   "mimetype": "text/x-python",
   "name": "python",
   "nbconvert_exporter": "python",
   "pygments_lexer": "ipython3",
   "version": "3.9.7"
  }
 },
 "nbformat": 4,
 "nbformat_minor": 5
}
