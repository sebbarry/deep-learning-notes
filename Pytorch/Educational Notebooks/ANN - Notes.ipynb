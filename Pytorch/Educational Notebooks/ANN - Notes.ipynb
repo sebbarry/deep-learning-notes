{
 "cells": [
  {
   "cell_type": "markdown",
   "id": "6d398776",
   "metadata": {},
   "source": [
    "# Theory Topics\n",
    "\n",
    "#### Perceptron Model to Neural Networks\n",
    "\n",
    "1. Single Biological Neuron and Perceptron\n",
    "\n",
    "Minsky 1969 - spawned the idea of Perceptrons - something that mimics the anatomy of the brain. \n",
    "\n",
    "Multi inputs and outputs.\n",
    "\n",
    "Sum of all inputs * weights + a bias = output\n",
    "\n",
    "2. Multi-layer perceptron Model\n",
    "\n",
    "Some network can approximate a function of any dimensions.\n",
    "\n",
    "A Deep Neural network = 2 or more hidden layers. \n",
    "\n",
    "#### Activation Functions\n",
    "\n",
    "Simplify or compress outputs into single values that fall within a range b/w zero and one or -1 and 1. \n",
    "\n",
    "Sometimes we do not want an activation function for a particular layer as we need the output to output a number as close to its true state (weather temperature data).\n",
    "\n",
    "Binary classification ~ 0 or 1 ~ would require a step function\n",
    "Sigmoid Function ~ 0 to 1 ~ has a gadient slope that flattens towards the ends\n",
    "Hyperbolic Tangent (tanh) ~ outputs between -1 and 1 with similarity in shape to Sigmoid \n",
    "ReLU ~ less than 0 is zero higher than zero is the value inputted. \n",
    "\n",
    "Softmax ~ probabilities for each class. The sum of all the probabilities is equal to one.\n",
    "\n",
    "#### Feed Forward Networks\n",
    "\n",
    "Mean Squared Error - Exponentially grows in cost ~ punishes large errors. \n",
    "~ keeps everything positive for us.\n",
    "\n",
    "Cost Function Parameters: \n",
    "1. W is the neural networks weights.\n",
    "2. B is the biases in the nn.\n",
    "3. S^r input of a single training example.\n",
    "4. E^r is the desired state of that training sample. \n",
    "\n",
    "#### Backpropogation\n",
    "\n",
    "(fill here)\n",
    "\n",
    "#### One Hot Encoding (Multiclass Classification)\n",
    "\n",
    "We can organize multiple classes into matrices that assign values (1 or 0) depending on whether they fall under the category of the class. "
   ]
  },
  {
   "cell_type": "code",
   "execution_count": null,
   "id": "eb881e5a",
   "metadata": {},
   "outputs": [],
   "source": []
  }
 ],
 "metadata": {
  "kernelspec": {
   "display_name": "Python 3",
   "language": "python",
   "name": "python3"
  },
  "language_info": {
   "codemirror_mode": {
    "name": "ipython",
    "version": 3
   },
   "file_extension": ".py",
   "mimetype": "text/x-python",
   "name": "python",
   "nbconvert_exporter": "python",
   "pygments_lexer": "ipython3",
   "version": "3.9.7"
  }
 },
 "nbformat": 4,
 "nbformat_minor": 5
}
