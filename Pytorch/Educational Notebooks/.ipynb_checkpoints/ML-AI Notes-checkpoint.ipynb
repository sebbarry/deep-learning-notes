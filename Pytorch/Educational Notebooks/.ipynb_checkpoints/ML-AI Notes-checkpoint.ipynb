{
 "cells": [
  {
   "cell_type": "markdown",
   "id": "e1a8e65a",
   "metadata": {},
   "source": [
    "# What is ML"
   ]
  },
  {
   "cell_type": "markdown",
   "id": "9f228a12",
   "metadata": {},
   "source": [
    "Machine learning is a method of data analyses. \n",
    "The algorithm finds hidden insights within the data. "
   ]
  },
  {
   "cell_type": "markdown",
   "id": "eddc14a9",
   "metadata": {},
   "source": [
    "# What are neural networks"
   ]
  },
  {
   "cell_type": "markdown",
   "id": "ad0c34e0",
   "metadata": {},
   "source": [
    "neural networks with more than one hidden layer. \n",
    "neural networks are a way of modeling biological neuron system mathematically. \n",
    "\n",
    "These networks can then be used to solve tasks that many other types of algorithms can not. "
   ]
  },
  {
   "cell_type": "markdown",
   "id": "8592fd25",
   "metadata": {},
   "source": [
    "# Supervised Learning\n",
    "\n",
    "Trained using labeled examples. We have some historical features using labeled examples such as input where the desired output is known."
   ]
  },
  {
   "cell_type": "markdown",
   "id": "81644e5f",
   "metadata": {},
   "source": [
    "Examples: \n",
    "> Spam vs Legitimiate Email\n",
    "> Positive or Negative Reviews"
   ]
  },
  {
   "cell_type": "markdown",
   "id": "75287394",
   "metadata": {},
   "source": [
    "**Used in applications where historical data predicts likely future events.**"
   ]
  },
  {
   "cell_type": "markdown",
   "id": "511bafea",
   "metadata": {},
   "source": [
    "# Machine Learning Process\n",
    "\n",
    "1. Data Acquisition\n",
    "2. Data Cleaning (use pandas etc)\n",
    "3. Build/Train Model on testing data. \n",
    "4. Validate model using validation data. \n",
    "5. Test the model using testing data. \n",
    "6. Model deployment. "
   ]
  },
  {
   "cell_type": "markdown",
   "id": "112c123f",
   "metadata": {},
   "source": [
    "# Overfitting\n",
    "\n",
    "Overfitting: when the model fits too much to the noise from the data. \n",
    "This often results in low error on training sets but high error on test/validation sets.\n",
    "\n",
    "- Think of the fork in sand example\n",
    "\n",
    "Underfitting would fit more in the category of non-linearities.\n",
    "\n",
    "To avoid overfitting, chose a cutoff point before the error rate starts to increase."
   ]
  },
  {
   "cell_type": "markdown",
   "id": "67d25ad9",
   "metadata": {},
   "source": [
    "# Evaluating Performance \n",
    "\n",
    "\n",
    "- use performance metrics to see how it performed on the test set or the validation set. \n",
    "\n",
    "#### Classification Problems/Metrics: \n",
    "    \n",
    "    1. Accuracy\n",
    "    2. Recall\n",
    "    3. Precision\n",
    "    4. F1-Score\n",
    "    \n",
    "    \n",
    "#### Simplification\n",
    "\n",
    "All classifications metrics stem from the idea that the predictions are correct or incorrect. \n",
    "\n",
    "**Binary Classifiation** - only two available classes (either 1, or 0)\n",
    "\n",
    "\n",
    "##### Accuracy\n",
    "\n",
    "Number of correct predictions / total number of predictions\n",
    "80/100 = 80% Accuracy\n",
    "\n",
    "- Accuracy is not a good choice with unbalance classes (99 dogs vs 1 cat ~ model will always predict 99% of dogs)\n",
    "\n",
    "##### Recall\n",
    "\n",
    "- The ability of a model to find all the relevant cases within a dataset.\n",
    "- the precise definition of recall is the number of true positives divided by the number of true positives plus the number of flase negatives. \n",
    "\n",
    "##### Precision\n",
    "\n",
    "- Ability of a classification model to identify only the relevant data points. \n",
    "- Precision is defined as the number of true positives divided by the number of true positives plus the number of false positives. \n",
    "\n",
    "\n",
    "##### F1-Score\n",
    "\n",
    "The optimal blend of precision and recall we can combine the two metrics.\n",
    "\n",
    "*This is the harmonic mean* \n",
    "- it punishes extreme values\n",
    "\n",
    "F1 = 2 * (precision * recall) / (precision + recall)\n",
    "\n",
    "\n",
    "#### Confusion Matrix\n",
    "\n",
    "true positives and false negatives for positive and negative predictions.\n",
    "\n",
    "- sometimes called type 1 error and type 2 errors.\n",
    "\n",
    "\n",
    "## Evaluation Regression\n",
    "\n",
    "How do we calculate performance based on **continuous** values? \n",
    "\n",
    "In this case we do not calculate predictions for classifications but for numerical regression tasks. Labels are continuous and are not categorized. \n",
    "\n",
    "#### Regression Evaluation Techniques \n",
    "Look up formulas online.\n",
    "\n",
    "1. Mean absolute error\n",
    "2. mean Squared Error (powerful in gradient descent calcs)\n",
    "3. Root Mean Square Error\n",
    "\n",
    "\n",
    "##### Mean Squared Error\n",
    "\n",
    "(true value - predicted value) ^ 2\n",
    "\n",
    "mean Squared Error punishes larger errors more by squaring them."
   ]
  },
  {
   "cell_type": "markdown",
   "id": "3f77a2ae",
   "metadata": {},
   "source": [
    "# Unsupervised Learning\n",
    "\n",
    "\n",
    "These are situations where we do not have correct labels to compare our results to. \n",
    "There are no correct answers and the evaluation is a lot harder for us to go throug. \n",
    "\n",
    "#### Clustering\n",
    "\n",
    "- Grouping together unlabeled data points into categories/clusters\n",
    "- Data Points are assigned to a cluster based on similarity\n",
    "\n",
    "ex. small dogs and large dogs into two different groups.\n",
    "\n",
    "#### Anomoly Detection\n",
    "\n",
    "- Detects outliers in a datasets.\n",
    "- Fraudulent transactions on a credit card. \n",
    "\n",
    "#### Dimensionality Reduction\n",
    "\n",
    "- Data processing techniques that reduces the number of features in a data set, either for compression or to better understand underlying trends within a data set. \n",
    "\n",
    "\n",
    "## Process\n",
    "\n",
    "1. Data acquisition\n",
    "2. Data cleaning\n",
    "3. Model training & buildling\n",
    "4. Transformation\n",
    "5. Model Deployment"
   ]
  }
 ],
 "metadata": {
  "kernelspec": {
   "display_name": "Python 3",
   "language": "python",
   "name": "python3"
  },
  "language_info": {
   "codemirror_mode": {
    "name": "ipython",
    "version": 3
   },
   "file_extension": ".py",
   "mimetype": "text/x-python",
   "name": "python",
   "nbconvert_exporter": "python",
   "pygments_lexer": "ipython3",
   "version": "3.9.7"
  }
 },
 "nbformat": 4,
 "nbformat_minor": 5
}
