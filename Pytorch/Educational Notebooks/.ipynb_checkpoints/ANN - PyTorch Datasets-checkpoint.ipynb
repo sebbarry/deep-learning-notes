{
 "cells": [
  {
   "cell_type": "code",
   "execution_count": 1,
   "id": "c3c2dec7-7586-4f76-a20a-5e7c4cb4b8ac",
   "metadata": {},
   "outputs": [
    {
     "name": "stderr",
     "output_type": "stream",
     "text": [
      "/opt/homebrew/lib/python3.9/site-packages/tqdm/auto.py:22: TqdmWarning: IProgress not found. Please update jupyter and ipywidgets. See https://ipywidgets.readthedocs.io/en/stable/user_install.html\n",
      "  from .autonotebook import tqdm as notebook_tqdm\n"
     ]
    }
   ],
   "source": [
    "import torch\n",
    "import numpy as np\n",
    "import pandas as pd\n",
    "import matplotlib.pyplot as plt\n"
   ]
  },
  {
   "cell_type": "code",
   "execution_count": 2,
   "id": "ad50b8ef-87fa-4a17-bb0d-5fa804760b93",
   "metadata": {},
   "outputs": [],
   "source": [
    "df = pd.read_csv(\"Iris.csv\")"
   ]
  },
  {
   "cell_type": "code",
   "execution_count": 3,
   "id": "8a8d3f84-bc9b-43c1-b553-b168a3ad128e",
   "metadata": {},
   "outputs": [
    {
     "data": {
      "text/html": [
       "<div>\n",
       "<style scoped>\n",
       "    .dataframe tbody tr th:only-of-type {\n",
       "        vertical-align: middle;\n",
       "    }\n",
       "\n",
       "    .dataframe tbody tr th {\n",
       "        vertical-align: top;\n",
       "    }\n",
       "\n",
       "    .dataframe thead th {\n",
       "        text-align: right;\n",
       "    }\n",
       "</style>\n",
       "<table border=\"1\" class=\"dataframe\">\n",
       "  <thead>\n",
       "    <tr style=\"text-align: right;\">\n",
       "      <th></th>\n",
       "      <th>Id</th>\n",
       "      <th>SepalLengthCm</th>\n",
       "      <th>SepalWidthCm</th>\n",
       "      <th>PetalLengthCm</th>\n",
       "      <th>PetalWidthCm</th>\n",
       "      <th>Species</th>\n",
       "    </tr>\n",
       "  </thead>\n",
       "  <tbody>\n",
       "    <tr>\n",
       "      <th>0</th>\n",
       "      <td>1</td>\n",
       "      <td>5.1</td>\n",
       "      <td>3.5</td>\n",
       "      <td>1.4</td>\n",
       "      <td>0.2</td>\n",
       "      <td>Iris-setosa</td>\n",
       "    </tr>\n",
       "    <tr>\n",
       "      <th>1</th>\n",
       "      <td>2</td>\n",
       "      <td>4.9</td>\n",
       "      <td>3.0</td>\n",
       "      <td>1.4</td>\n",
       "      <td>0.2</td>\n",
       "      <td>Iris-setosa</td>\n",
       "    </tr>\n",
       "    <tr>\n",
       "      <th>2</th>\n",
       "      <td>3</td>\n",
       "      <td>4.7</td>\n",
       "      <td>3.2</td>\n",
       "      <td>1.3</td>\n",
       "      <td>0.2</td>\n",
       "      <td>Iris-setosa</td>\n",
       "    </tr>\n",
       "    <tr>\n",
       "      <th>3</th>\n",
       "      <td>4</td>\n",
       "      <td>4.6</td>\n",
       "      <td>3.1</td>\n",
       "      <td>1.5</td>\n",
       "      <td>0.2</td>\n",
       "      <td>Iris-setosa</td>\n",
       "    </tr>\n",
       "    <tr>\n",
       "      <th>4</th>\n",
       "      <td>5</td>\n",
       "      <td>5.0</td>\n",
       "      <td>3.6</td>\n",
       "      <td>1.4</td>\n",
       "      <td>0.2</td>\n",
       "      <td>Iris-setosa</td>\n",
       "    </tr>\n",
       "    <tr>\n",
       "      <th>...</th>\n",
       "      <td>...</td>\n",
       "      <td>...</td>\n",
       "      <td>...</td>\n",
       "      <td>...</td>\n",
       "      <td>...</td>\n",
       "      <td>...</td>\n",
       "    </tr>\n",
       "    <tr>\n",
       "      <th>145</th>\n",
       "      <td>146</td>\n",
       "      <td>6.7</td>\n",
       "      <td>3.0</td>\n",
       "      <td>5.2</td>\n",
       "      <td>2.3</td>\n",
       "      <td>Iris-virginica</td>\n",
       "    </tr>\n",
       "    <tr>\n",
       "      <th>146</th>\n",
       "      <td>147</td>\n",
       "      <td>6.3</td>\n",
       "      <td>2.5</td>\n",
       "      <td>5.0</td>\n",
       "      <td>1.9</td>\n",
       "      <td>Iris-virginica</td>\n",
       "    </tr>\n",
       "    <tr>\n",
       "      <th>147</th>\n",
       "      <td>148</td>\n",
       "      <td>6.5</td>\n",
       "      <td>3.0</td>\n",
       "      <td>5.2</td>\n",
       "      <td>2.0</td>\n",
       "      <td>Iris-virginica</td>\n",
       "    </tr>\n",
       "    <tr>\n",
       "      <th>148</th>\n",
       "      <td>149</td>\n",
       "      <td>6.2</td>\n",
       "      <td>3.4</td>\n",
       "      <td>5.4</td>\n",
       "      <td>2.3</td>\n",
       "      <td>Iris-virginica</td>\n",
       "    </tr>\n",
       "    <tr>\n",
       "      <th>149</th>\n",
       "      <td>150</td>\n",
       "      <td>5.9</td>\n",
       "      <td>3.0</td>\n",
       "      <td>5.1</td>\n",
       "      <td>1.8</td>\n",
       "      <td>Iris-virginica</td>\n",
       "    </tr>\n",
       "  </tbody>\n",
       "</table>\n",
       "<p>150 rows × 6 columns</p>\n",
       "</div>"
      ],
      "text/plain": [
       "      Id  SepalLengthCm  SepalWidthCm  PetalLengthCm  PetalWidthCm  \\\n",
       "0      1            5.1           3.5            1.4           0.2   \n",
       "1      2            4.9           3.0            1.4           0.2   \n",
       "2      3            4.7           3.2            1.3           0.2   \n",
       "3      4            4.6           3.1            1.5           0.2   \n",
       "4      5            5.0           3.6            1.4           0.2   \n",
       "..   ...            ...           ...            ...           ...   \n",
       "145  146            6.7           3.0            5.2           2.3   \n",
       "146  147            6.3           2.5            5.0           1.9   \n",
       "147  148            6.5           3.0            5.2           2.0   \n",
       "148  149            6.2           3.4            5.4           2.3   \n",
       "149  150            5.9           3.0            5.1           1.8   \n",
       "\n",
       "            Species  \n",
       "0       Iris-setosa  \n",
       "1       Iris-setosa  \n",
       "2       Iris-setosa  \n",
       "3       Iris-setosa  \n",
       "4       Iris-setosa  \n",
       "..              ...  \n",
       "145  Iris-virginica  \n",
       "146  Iris-virginica  \n",
       "147  Iris-virginica  \n",
       "148  Iris-virginica  \n",
       "149  Iris-virginica  \n",
       "\n",
       "[150 rows x 6 columns]"
      ]
     },
     "execution_count": 3,
     "metadata": {},
     "output_type": "execute_result"
    }
   ],
   "source": [
    "df"
   ]
  },
  {
   "cell_type": "code",
   "execution_count": 4,
   "id": "48796929-7f16-4ca0-997e-dd70c1b2bb40",
   "metadata": {},
   "outputs": [
    {
     "data": {
      "text/plain": [
       "(150, 6)"
      ]
     },
     "execution_count": 4,
     "metadata": {},
     "output_type": "execute_result"
    }
   ],
   "source": [
    "df.shape"
   ]
  },
  {
   "cell_type": "code",
   "execution_count": 5,
   "id": "cde8920a-a3ac-442c-a7fc-921d6c8600fd",
   "metadata": {},
   "outputs": [],
   "source": [
    "from torch.utils.data import DataLoader, TensorDataset"
   ]
  },
  {
   "cell_type": "code",
   "execution_count": 6,
   "id": "bb779d02-49cf-409a-bfbf-e43a09464d4b",
   "metadata": {},
   "outputs": [],
   "source": [
    "# grab the values from the data\n",
    "\n",
    "# training dataset\n",
    "data = df.drop('Species', axis=1).values # inputs\n",
    "\n",
    "# one_hot the species data\n",
    "one_hot = df['Species'].values\n",
    "oh_temp = {}\n",
    "for k, v in enumerate(one_hot):\n",
    "    if v in oh_temp: \n",
    "        one_hot[k] = oh_temp[v]\n",
    "    else: \n",
    "        oh_temp[v] = k\n",
    "        one_hot[k] = k\n",
    "    \n",
    "labels = df['Species'].values # prediction values\n",
    "one_hot = [x.__int__() for x in one_hot]\n"
   ]
  },
  {
   "cell_type": "code",
   "execution_count": 7,
   "id": "578def97-b3c7-4fae-aa40-9f4062030aa8",
   "metadata": {},
   "outputs": [
    {
     "data": {
      "text/plain": [
       "150"
      ]
     },
     "execution_count": 7,
     "metadata": {},
     "output_type": "execute_result"
    }
   ],
   "source": [
    "iris = TensorDataset(torch.FloatTensor(data), torch.LongTensor(one_hot))  # we can wrap a data\n",
    "# tensor into a data wrapper\n",
    "# we can also batch this. \n",
    "len(iris)"
   ]
  },
  {
   "cell_type": "code",
   "execution_count": 8,
   "id": "1c70646f-03e6-44f0-a84d-e3889ef351ab",
   "metadata": {},
   "outputs": [],
   "source": [
    "#iris_loader = DataLoader(iris, batch_size=50, shuffle=True)\n",
    "# creates a batch size of 50 points each and shuffles the data points. "
   ]
  },
  {
   "cell_type": "code",
   "execution_count": 9,
   "id": "1917cd7a-4a05-4bba-8939-9417ded31eb0",
   "metadata": {},
   "outputs": [
    {
     "data": {
      "text/plain": [
       "'\\nIRIS DAta set to bild out a full network. 3 species of the iris dataset. \\n'"
      ]
     },
     "execution_count": 9,
     "metadata": {},
     "output_type": "execute_result"
    }
   ],
   "source": [
    "\"\"\"\n",
    "IRIS DAta set to bild out a full network. 3 species of the iris dataset. \n",
    "\"\"\"\n",
    "# petal lenght\n",
    "# petal width\n",
    "# we can predict the species of iris flowers. "
   ]
  },
  {
   "cell_type": "code",
   "execution_count": 10,
   "id": "99ea86f0-3ec2-498c-93c5-f0643512587d",
   "metadata": {},
   "outputs": [],
   "source": [
    "import torch \n",
    "import torch.nn as nn \n",
    "import pandas as pd\n",
    "import numpy as np\n",
    "import matplotlib.pyplot as plt\n",
    "import torch.nn.functional as F"
   ]
  },
  {
   "cell_type": "code",
   "execution_count": 11,
   "id": "de2a7aec-c522-4e23-acb0-cd1912e11fe3",
   "metadata": {},
   "outputs": [],
   "source": [
    "class Model(nn.Module): \n",
    "    \n",
    "\n",
    "    def __init__(self, input=4, h1=8, h2=9, out_features=3): \n",
    "        # how many layers are there for us here? \n",
    "\n",
    "        # Input layer --> h1 --> h2 --> output\n",
    "        # here are the four features as the input layer. \n",
    "        \n",
    "        super().__init__()\n",
    "        self.fc1 = nn.Linear(input, h1)\n",
    "        self.fc2 = nn.Linear(h1, h2)\n",
    "        self.out = nn.Linear(h2, out_features)\n",
    "        \n",
    "\n",
    "    def forward(self, x): \n",
    "        # forward loop for our model\n",
    "        # f is the functional import that we defined\n",
    "        x = F.relu(self.fc1(x))\n",
    "        x = F.relu(self.fc2(x))\n",
    "        x = self.out(x)\n",
    "        \n",
    "        return x\n",
    "        "
   ]
  },
  {
   "cell_type": "code",
   "execution_count": 12,
   "id": "c7f4f50c-70a5-4f79-8d47-495c0dfcf8ff",
   "metadata": {},
   "outputs": [],
   "source": [
    "torch.manual_seed(32)\n",
    "model = Model()"
   ]
  },
  {
   "cell_type": "code",
   "execution_count": 13,
   "id": "ea0729d3-33a7-4fc0-b3de-16e3ed1cf323",
   "metadata": {},
   "outputs": [],
   "source": [
    "# load the dataset into pandas\n",
    "import pandas as pd\n",
    "import matplotlib.pyplot as plt"
   ]
  },
  {
   "cell_type": "code",
   "execution_count": 14,
   "id": "287dd8ea-960e-4a9c-abb8-ac3d2ba665c0",
   "metadata": {},
   "outputs": [],
   "source": [
    "# start importing the data that we want. \n",
    "df = pd.read_csv('Data/iris.csv')"
   ]
  },
  {
   "cell_type": "code",
   "execution_count": 15,
   "id": "ff765690-1c1b-4d40-b926-4f84b282d74f",
   "metadata": {},
   "outputs": [],
   "source": [
    "# train test split\n",
    "X = df.drop('target', axis=1)\n",
    "y = df['target']"
   ]
  },
  {
   "cell_type": "code",
   "execution_count": 16,
   "id": "6e097115-1bf8-4b9e-a83b-a493606605ed",
   "metadata": {},
   "outputs": [],
   "source": [
    "X = X.values\n",
    "y = y.values\n"
   ]
  },
  {
   "cell_type": "code",
   "execution_count": 24,
   "id": "3885e58f-299f-4272-b3df-e89a1738cb65",
   "metadata": {},
   "outputs": [],
   "source": [
    "X_train = X[0:75]\n",
    "X_test = X[75:150]\n",
    "y_test = y[0:75]\n",
    "y_train = y[75:150]"
   ]
  },
  {
   "cell_type": "code",
   "execution_count": 25,
   "id": "621c31ec-fc47-4334-bcbf-4982aa1e81e0",
   "metadata": {},
   "outputs": [],
   "source": [
    "X_train = torch.FloatTensor(X_train)\n",
    "X_test = torch.FloatTensor(X_test)\n",
    "y_train = torch.LongTensor(y_train)\n",
    "y_test = torch.LongTensor(y_test)"
   ]
  },
  {
   "cell_type": "code",
   "execution_count": 35,
   "id": "af667ec1-4074-44e8-aa79-7465b142beef",
   "metadata": {},
   "outputs": [
    {
     "name": "stdout",
     "output_type": "stream",
     "text": [
      "epoch: 90 loss: tensor(0.3317, grad_fn=<NllLossBackward0>)"
     ]
    }
   ],
   "source": [
    "# make your criterion value\n",
    "\n",
    "criterion = nn.CrossEntropyLoss()\n",
    "alpha = 0.01 # decrease the alpha as needed. \n",
    "optimizer = torch.optim.Adam(model.parameters(), lr=alpha)\n",
    "\n",
    "epochs = 100\n",
    "losses = []\n",
    "\n",
    "import sys\n",
    "\n",
    "for i in range(epochs): \n",
    "    # build the network through the training data and then build the testing data. \n",
    "    # run forward through the network\n",
    "    y_pred = model.forward(X_train) # pass in the X data through the training set. \n",
    "    \n",
    "    loss = criterion(y_pred, y_train)\n",
    "    # claculate the loss value\n",
    "    losses.append(loss)\n",
    "    \n",
    "    # printout for the user\n",
    "    if i % 10 == 0: \n",
    "        sys.stdout.write(\"\\r\" + \"epoch: \" + str(i) + \\\n",
    "                       \" loss: \" + str(loss))\n",
    "    \n",
    "    # back prop\n",
    "    optimizer.zero_grad()\n",
    "    loss.backward()\n",
    "    \n",
    "    # adjust the weights\n",
    "    optimizer.step()\n",
    "    \n"
   ]
  },
  {
   "cell_type": "code",
   "execution_count": null,
   "id": "c3857d40-86a0-45c9-b747-57051388016e",
   "metadata": {},
   "outputs": [],
   "source": []
  },
  {
   "cell_type": "code",
   "execution_count": null,
   "id": "e21a2c12-a409-47c3-adde-3bea4bc08918",
   "metadata": {},
   "outputs": [],
   "source": []
  }
 ],
 "metadata": {
  "kernelspec": {
   "display_name": "Python 3 (ipykernel)",
   "language": "python",
   "name": "python3"
  },
  "language_info": {
   "codemirror_mode": {
    "name": "ipython",
    "version": 3
   },
   "file_extension": ".py",
   "mimetype": "text/x-python",
   "name": "python",
   "nbconvert_exporter": "python",
   "pygments_lexer": "ipython3",
   "version": "3.9.12"
  }
 },
 "nbformat": 4,
 "nbformat_minor": 5
}
