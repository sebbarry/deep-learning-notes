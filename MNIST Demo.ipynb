{
 "cells": [
  {
   "cell_type": "code",
   "execution_count": 35,
   "id": "2bb81a16",
   "metadata": {},
   "outputs": [
    {
     "name": "stdout",
     "output_type": "stream",
     "text": [
      "[0 0 0 0 0 0 0 0 0 0 0 0 0 0 0 0 0 0 0 0 0 0 0 0 0 0 0 0]\n"
     ]
    },
    {
     "name": "stderr",
     "output_type": "stream",
     "text": [
      "True: 100%|██████████| 10000000/10000000 [00:01<00:00, 6088866.33it/s]\n"
     ]
    }
   ],
   "source": [
    "import urllib\n",
    "import numpy as np\n",
    "import trange\n",
    "from tqdm import tqdm\n",
    "\n",
    "filename = \"train-images-idx3-ubyte.gz\"\n",
    "url = \"http://yann.lecun.com/exdb/mnist/train-images-idx3-ubyte.gz\"\n",
    "        \n",
    "#open the training data set into a buffer.\n",
    "def get_data(url):\n",
    "    import os, gzip\n",
    "    if not os.path.isfile(filename): \n",
    "        dat = urllib.request.urlopen(url).read()\n",
    "        with open(filename, 'wb') as f: \n",
    "            f.write(dat)\n",
    "    else:\n",
    "        with open(filename, 'rb') as f: \n",
    "            dat = f.read()\n",
    "    return np.frombuffer(gzip.decompress(dat), dtype=np.uint8).copy()\n",
    "\n",
    "X_Train = get_data(url)[0x10:].reshape(-1, 28, 28)\n",
    "print(X_Train[0][0])\n",
    "\n",
    "    \n",
    "value = True\n",
    "for i in tqdm(t:=range(10000000), desc=\"%s\" % value):\n",
    "    continue"
   ]
  },
  {
   "cell_type": "code",
   "execution_count": null,
   "id": "37940f81",
   "metadata": {},
   "outputs": [],
   "source": [
    "\n"
   ]
  },
  {
   "cell_type": "code",
   "execution_count": null,
   "id": "239ed62c",
   "metadata": {},
   "outputs": [],
   "source": []
  }
 ],
 "metadata": {
  "kernelspec": {
   "display_name": "Python 3",
   "language": "python",
   "name": "python3"
  },
  "language_info": {
   "codemirror_mode": {
    "name": "ipython",
    "version": 3
   },
   "file_extension": ".py",
   "mimetype": "text/x-python",
   "name": "python",
   "nbconvert_exporter": "python",
   "pygments_lexer": "ipython3",
   "version": "3.8.2"
  }
 },
 "nbformat": 4,
 "nbformat_minor": 5
}
