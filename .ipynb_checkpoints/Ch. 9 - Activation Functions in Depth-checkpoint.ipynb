{
 "cells": [
  {
   "cell_type": "code",
   "execution_count": 1,
   "id": "1b3a8507",
   "metadata": {},
   "outputs": [
    {
     "data": {
      "text/plain": [
       "'\\nExample of Activation Functions: \\n1. relu\\n2. sigmoid\\n3. tanh\\n4. softmax (attenuation)\\n5. raw dot product value (w/o limiting output values to 0-1 ~ think temperature data)\\n'"
      ]
     },
     "execution_count": 1,
     "metadata": {},
     "output_type": "execute_result"
    }
   ],
   "source": [
    "\"\"\"\n",
    "Activation Functions: \n",
    "1. Must be monotonic (increasing without mapping a value to more than one output)\n",
    "2. Cannot change direction\n",
    "3. Continuous and infinite in domain (cannot output missing values or NAN values)\n",
    "4. Good activation functions are non-linear (they provide some sort of non-linearity so as to increase correlation)\n",
    "5. Want the activation function to be effectively computable (must be fast and simple for CPU optimization)\n",
    "\n",
    "\"\"\"\n",
    "\n",
    "# Selective correlation - want one incoming signal to increase or decrease how correlated the neuron\n",
    "# is to all other signals. \n",
    "\n",
    "\"\"\"\n",
    "Example of Activation Functions: \n",
    "1. relu\n",
    "2. sigmoid\n",
    "3. tanh\n",
    "4. softmax (attenuation)\n",
    "5. raw dot product value (w/o limiting output values to 0-1 ~ think temperature data)\n",
    "\"\"\"\n",
    "\n"
   ]
  },
  {
   "cell_type": "code",
   "execution_count": 20,
   "id": "ae94eed4",
   "metadata": {},
   "outputs": [
    {
     "name": "stdout",
     "output_type": "stream",
     "text": [
      "60000\n",
      "10000\n"
     ]
    }
   ],
   "source": [
    "# Start New Network\n",
    "\n",
    "import numpy as np, sys, gzip, hashlib\n",
    "from keras.datasets import mnist\n",
    "\n",
    "(x_test, y_test), (x_train, y_train) = mnist.load_data()\n",
    "print(len(x_test)) # 60000\n",
    "print(len(x_train)) # 10000"
   ]
  },
  {
   "cell_type": "code",
   "execution_count": 38,
   "id": "fd58e218",
   "metadata": {},
   "outputs": [],
   "source": [
    "train_filename = hashlib.md5(\"mnist_train\".encode(\"utf-8\")).hexdigest()\n",
    "test_filename = hashlib.md5(\"mnist_test\".encode(\"utf-8\")).hexdigest()\n",
    "def getdata():\n",
    "    import os\n",
    "    x_train = None\n",
    "    y_train = None\n",
    "    x_test = None\n",
    "    y_test = None\n",
    "    if not train_filename in os.listdir() or test_filename in os.listdir():\n",
    "        (x_test, y_test), (x_train, y_train) = mnist.load_data()\n",
    "        with open(train_filename, 'wb') as f:\n",
    "            f.write(x_test)\n",
    "            f.write(y_test)\n",
    "        with open(test_filename, 'wb') as f: \n",
    "            f.write(x_train)\n",
    "            f.write(y_train)\n",
    "        return (x_test, y_test), (x_train, y_train)\n",
    "    else: \n",
    "        with gzip.open(train_filename, 'rb') as f: \n",
    "            x_test = f.read(0, 60000)\n",
    "            y_test = f.read(60001, 120000)\n",
    "        with gzip.open(test_filename, 'rb') as f: \n",
    "            x_train = f.read(0, 10000)\n",
    "            y_train = f.read(10001, 20000)\n",
    "        return (x_test, y_test), (x_train, y_train)\n",
    "            \n",
    "(x_train, y_train), (x_test, y_test) = getdata()"
   ]
  },
  {
   "cell_type": "code",
   "execution_count": 42,
   "id": "4e6dfcd7",
   "metadata": {},
   "outputs": [
    {
     "name": "stderr",
     "output_type": "stream",
     "text": [
      "<ipython-input-42-8a5bbdad446c>:42: RuntimeWarning: divide by zero encountered in true_divide\n",
      "  layer_2_delta = (labels[batch_start:batch_end]-layer_2) / (np.argmax(labels[batch_start+k:batch_start+k+1]))\n"
     ]
    },
    {
     "name": "stdout",
     "output_type": "stream",
     "text": [
      "\n",
      "I: 0 Test-Acc: 0.098 Train-Acc: 0.009\n",
      "I: 0 Test-Acc: 0.098 Train-Acc: 0.017\n",
      "I: 0 Test-Acc: 0.098 Train-Acc: 0.03\n",
      "I: 0 Test-Acc: 0.098 Train-Acc: 0.035\n",
      "I: 0 Test-Acc: 0.098 Train-Acc: 0.046\n",
      "I: 0 Test-Acc: 0.098 Train-Acc: 0.054\n",
      "I: 0 Test-Acc: 0.098 Train-Acc: 0.065\n",
      "I: 0 Test-Acc: 0.098 Train-Acc: 0.075\n",
      "I: 0 Test-Acc: 0.098 Train-Acc: 0.083\n",
      "I: 0 Test-Acc: 0.098 Train-Acc: 0.093\n",
      "I: 10 Test-Acc: 0.098 Train-Acc: 0.013\n",
      "I: 10 Test-Acc: 0.098 Train-Acc: 0.021\n",
      "I: 10 Test-Acc: 0.098 Train-Acc: 0.034\n",
      "I: 10 Test-Acc: 0.098 Train-Acc: 0.039\n",
      "I: 10 Test-Acc: 0.098 Train-Acc: 0.05\n",
      "I: 10 Test-Acc: 0.098 Train-Acc: 0.058\n",
      "I: 10 Test-Acc: 0.098 Train-Acc: 0.069\n",
      "I: 10 Test-Acc: 0.098 Train-Acc: 0.079\n",
      "I: 10 Test-Acc: 0.098 Train-Acc: 0.087\n",
      "I: 10 Test-Acc: 0.098 Train-Acc: 0.097\n",
      "I: 20 Test-Acc: 0.098 Train-Acc: 0.013\n",
      "I: 20 Test-Acc: 0.098 Train-Acc: 0.021\n",
      "I: 20 Test-Acc: 0.098 Train-Acc: 0.034\n",
      "I: 20 Test-Acc: 0.098 Train-Acc: 0.039\n",
      "I: 20 Test-Acc: 0.098 Train-Acc: 0.05\n",
      "I: 20 Test-Acc: 0.098 Train-Acc: 0.058\n",
      "I: 20 Test-Acc: 0.098 Train-Acc: 0.069\n",
      "I: 20 Test-Acc: 0.098 Train-Acc: 0.079\n",
      "I: 20 Test-Acc: 0.098 Train-Acc: 0.087\n",
      "I: 20 Test-Acc: 0.098 Train-Acc: 0.097\n",
      "I: 30 Test-Acc: 0.098 Train-Acc: 0.013\n",
      "I: 30 Test-Acc: 0.098 Train-Acc: 0.021\n",
      "I: 30 Test-Acc: 0.098 Train-Acc: 0.034\n",
      "I: 30 Test-Acc: 0.098 Train-Acc: 0.039\n",
      "I: 30 Test-Acc: 0.098 Train-Acc: 0.05\n",
      "I: 30 Test-Acc: 0.098 Train-Acc: 0.058\n",
      "I: 30 Test-Acc: 0.098 Train-Acc: 0.069\n",
      "I: 30 Test-Acc: 0.098 Train-Acc: 0.079\n",
      "I: 30 Test-Acc: 0.098 Train-Acc: 0.087\n",
      "I: 30 Test-Acc: 0.098 Train-Acc: 0.097"
     ]
    },
    {
     "ename": "KeyboardInterrupt",
     "evalue": "",
     "output_type": "error",
     "traceback": [
      "\u001b[0;31m---------------------------------------------------------------------------\u001b[0m",
      "\u001b[0;31mKeyboardInterrupt\u001b[0m                         Traceback (most recent call last)",
      "\u001b[0;32m<ipython-input-42-8a5bbdad446c>\u001b[0m in \u001b[0;36m<module>\u001b[0;34m\u001b[0m\n\u001b[1;32m     52\u001b[0m             \u001b[0mlayer_1\u001b[0m \u001b[0;34m=\u001b[0m \u001b[0mtanh\u001b[0m\u001b[0;34m(\u001b[0m\u001b[0mnp\u001b[0m\u001b[0;34m.\u001b[0m\u001b[0mdot\u001b[0m\u001b[0;34m(\u001b[0m\u001b[0mlayer_0\u001b[0m\u001b[0;34m,\u001b[0m \u001b[0mweights_0_1\u001b[0m\u001b[0;34m)\u001b[0m\u001b[0;34m)\u001b[0m\u001b[0;34m\u001b[0m\u001b[0;34m\u001b[0m\u001b[0m\n\u001b[1;32m     53\u001b[0m             \u001b[0mlayer_2\u001b[0m \u001b[0;34m=\u001b[0m \u001b[0mnp\u001b[0m\u001b[0;34m.\u001b[0m\u001b[0mdot\u001b[0m\u001b[0;34m(\u001b[0m\u001b[0mlayer_1\u001b[0m\u001b[0;34m,\u001b[0m \u001b[0mweights_1_2\u001b[0m\u001b[0;34m)\u001b[0m\u001b[0;34m\u001b[0m\u001b[0;34m\u001b[0m\u001b[0m\n\u001b[0;32m---> 54\u001b[0;31m             \u001b[0mtest_correct_cnt\u001b[0m \u001b[0;34m+=\u001b[0m \u001b[0mint\u001b[0m\u001b[0;34m(\u001b[0m\u001b[0mnp\u001b[0m\u001b[0;34m.\u001b[0m\u001b[0margmax\u001b[0m\u001b[0;34m(\u001b[0m\u001b[0mlayer_2\u001b[0m\u001b[0;34m)\u001b[0m \u001b[0;34m==\u001b[0m \u001b[0mnp\u001b[0m\u001b[0;34m.\u001b[0m\u001b[0margmax\u001b[0m\u001b[0;34m(\u001b[0m\u001b[0mtest_labels\u001b[0m\u001b[0;34m[\u001b[0m\u001b[0mi\u001b[0m\u001b[0;34m:\u001b[0m\u001b[0mi\u001b[0m\u001b[0;34m+\u001b[0m\u001b[0;36m1\u001b[0m\u001b[0;34m]\u001b[0m\u001b[0;34m)\u001b[0m\u001b[0;34m)\u001b[0m\u001b[0;34m\u001b[0m\u001b[0;34m\u001b[0m\u001b[0m\n\u001b[0m\u001b[1;32m     55\u001b[0m         \u001b[0;32mif\u001b[0m\u001b[0;34m(\u001b[0m\u001b[0mj\u001b[0m\u001b[0;34m%\u001b[0m\u001b[0;36m10\u001b[0m \u001b[0;34m==\u001b[0m \u001b[0;36m0\u001b[0m\u001b[0;34m)\u001b[0m\u001b[0;34m:\u001b[0m\u001b[0;34m\u001b[0m\u001b[0;34m\u001b[0m\u001b[0m\n\u001b[1;32m     56\u001b[0m             sys.stdout.write(\"\\n\"+ \"I: \" + str(j) + \\\n",
      "\u001b[0;31mKeyboardInterrupt\u001b[0m: "
     ]
    }
   ],
   "source": [
    "images, labels = (x_train[0:1000].reshape(1000, 28*28) / 255, y_train[0:1000])\n",
    "\n",
    "one_hot_labels = np.zeros((len(labels), 10))\n",
    "for i, l in enumerate(labels): \n",
    "    one_hot_labels[i][l] = 1\n",
    "labels = one_hot_labels\n",
    "\n",
    "test_images = x_test.reshape(len(x_test), 28*28) / 255\n",
    "test_labels = np.zeros((len(y_test), 10))\n",
    "for i, l in enumerate(y_test): \n",
    "    test_labels[i][l] = 1\n",
    "\n",
    "# activation functions\n",
    "def tanh(x):\n",
    "    return np.tanh(x)\n",
    "def tanh2deriv(output): \n",
    "    return 1 - (output ** 2) \n",
    "def softmax(x):\n",
    "    temp = np.exp(x)\n",
    "    return temp / np.sum(temp, axis=1, keepdims=True)\n",
    "\n",
    "alpha, iterations, hidden_size = (2, 300, 100)\n",
    "pixels_per_image, num_labels = (784, 10)\n",
    "batch_size = 100\n",
    "\n",
    "weights_0_1 = .02 * np.random.random((pixels_per_image, hidden_size)) - 0.01\n",
    "weights_1_2 = 0.2 * np.random.random((hidden_size, num_labels)) - 0.1\n",
    "\n",
    "for j in range(iterations): \n",
    "    correct_cnt = 0\n",
    "    for i in range(int(len(images) / batch_size)): \n",
    "        batch_start, batch_end=((i * batch_size), ((i+1)*batch_size))\n",
    "        layer_0 = images[batch_start:batch_end]\n",
    "        layer_1 = tanh(np.dot(layer_0, weights_0_1))\n",
    "        dropout_mask = np.random.randint(2, size=layer_1.shape)\n",
    "        layer_1*= dropout_mask * 2\n",
    "        layer_2 = softmax(np.dot(layer_1, weights_1_2))\n",
    "        \n",
    "        for k in range(batch_size): \n",
    "            correct_cnt += int(np.argmax(layer_2[k:k+1]) == \\\n",
    "                              np.argmax(labels[batch_start+k:batch_start+k+1]))\n",
    "            layer_2_delta = (labels[batch_start:batch_end]-layer_2) / (np.argmax(labels[batch_start+k:batch_start+k+1]))\n",
    "            layer_1_delta = layer_2_delta.dot(weights_1_2.T) * tanh2deriv(layer_1)\n",
    "            layer_1_delta *= dropout_mask\n",
    "            \n",
    "            weights_1_2 += alpha * layer_1.T.dot(layer_2_delta)\n",
    "            weights_0_1 += alpha * layer_0.T.dot(layer_1_delta)\n",
    "        test_correct_cnt = 0\n",
    "        \n",
    "        for i in range(len(test_images)):\n",
    "            layer_0 = test_images[i:i+1]\n",
    "            layer_1 = tanh(np.dot(layer_0, weights_0_1))\n",
    "            layer_2 = np.dot(layer_1, weights_1_2)\n",
    "            test_correct_cnt += int(np.argmax(layer_2) == np.argmax(test_labels[i:i+1]))\n",
    "            \n",
    "        if(j%10 == 0):\n",
    "            sys.stdout.write(\"\\n\"+ \"I: \" + str(j) + \\\n",
    "                            \" Test-Acc: \" + str(test_correct_cnt/float(len(test_images))) +\\\n",
    "                            \" Train-Acc: \" + str(correct_cnt/float(len(images))))"
   ]
  },
  {
   "cell_type": "code",
   "execution_count": null,
   "id": "b3987ab2",
   "metadata": {},
   "outputs": [],
   "source": []
  }
 ],
 "metadata": {
  "kernelspec": {
   "display_name": "Python 3",
   "language": "python",
   "name": "python3"
  },
  "language_info": {
   "codemirror_mode": {
    "name": "ipython",
    "version": 3
   },
   "file_extension": ".py",
   "mimetype": "text/x-python",
   "name": "python",
   "nbconvert_exporter": "python",
   "pygments_lexer": "ipython3",
   "version": "3.9.7"
  }
 },
 "nbformat": 4,
 "nbformat_minor": 5
}
